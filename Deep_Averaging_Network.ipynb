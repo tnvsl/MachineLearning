{
  "cells": [
    {
      "cell_type": "markdown",
      "metadata": {
        "id": "qEEVGi2_Zaf9"
      },
      "source": [
        "## About this Project\n",
        "\n",
        "In this project, you will implement a Deep Averaging Network for sentiment classification.\n",
        "\n",
        "<h3>Evaluation</h3>\n",
        "\n",
        "<p><strong>This project must be successfully completed and submitted in order to receive credit for this course. Your score on this project will be included in your final grade calculation.</strong><p>\n",
        "    \n",
        "<p>You are expected to write code where you see <em># YOUR CODE HERE</em> within the cells of this notebook. Not all cells will be graded; code input cells followed by cells marked with <em>#Autograder test cell</em> will be graded. Upon submitting your work, the code you write at these designated positions will be assessed using an \"autograder\" that will run all test cells to assess your code. You will receive feedback from the autograder that will identify any errors in your code. Use this feedback to improve your code if you need to resubmit. Be sure not to change the names of any provided functions, classes, or variables within the existing code cells, as this will interfere with the autograder. Also, remember to execute all code cells sequentially, not just those you’ve edited, to ensure your code runs properly.</p>\n",
        "    \n",
        "<p>You can resubmit your work as many times as necessary before the submission deadline. If you experience difficulty or have questions about this exercise, use the Q&A discussion board to engage with your peers or seek assistance from the instructor.<p>\n",
        "\n",
        "<p>Before starting your work, please review <a href=\"https://s3.amazonaws.com/ecornell/global/eCornellPlagiarismPolicy.pdf\">eCornell's policy regarding plagiarism</a> (the presentation of someone else's work as your own without source credit).</p>\n",
        "\n",
        "<h3>Submit Code for Autograder Feedback</h3>\n",
        "\n",
        "<p>Once you have completed your work on this notebook, you will submit your code for autograder review. Follow these steps:</p>\n",
        "\n",
        "<ol>\n",
        "  <li><strong>Save your notebook.</strong></li>\n",
        "  <li><strong>Mark as Completed —</strong> In the blue menu bar along the top of this code exercise window, you’ll see a menu item called <strong>Education</strong>. In the <strong>Education</strong> menu, click <strong>Mark as Completed</strong> to submit your code for autograder/instructor review. This process will take a moment and a progress bar will show you the status of your submission.</li>\n",
        "\t<li><strong>Review your results —</strong> Once your work is marked as complete, the results of the autograder will automatically be presented in a new tab within the code exercise window. You can click on the assessment name in this feedback window to see more details regarding specific feedback/errors in your code submission.</li>\n",
        "  <li><strong>Repeat, if necessary —</strong> The Jupyter notebook will always remain accessible in the first tabbed window of the exercise. To reattempt the work, you will first need to click <strong>Mark as Uncompleted</strong> in the <strong>Education</strong> menu and then proceed to make edits to the notebook. Once you are ready to resubmit, follow steps one through three. You can repeat this procedure as many times as necessary.</li>\n",
        "\n",
        "<p>You can also download a copy of this notebook in multiple formats using the <strong>Download as</strong> option in the <strong>File</strong> menu above.</p>"
      ]
    },
    {
      "cell_type": "markdown",
      "metadata": {
        "deletable": false,
        "editable": false,
        "nbgrader": {
          "checksum": "70e6cb858dba42a5eefab2925ff7c3fb",
          "grade": false,
          "grade_id": "cell-18e299b53d44e9c6",
          "locked": true,
          "schema_version": 1,
          "solution": false
        },
        "id": "oKI283pOZagA"
      },
      "source": [
        "<h2>Getting Started</h2>\n",
        "<h3>Python Initialization</h3> \n",
        "\n",
        "Please run the following code to initialize your Python kernel. You should be running a version of Python 3.x. </p>"
      ]
    },
    {
      "cell_type": "code",
      "execution_count": null,
      "metadata": {
        "deletable": false,
        "editable": false,
        "nbgrader": {
          "checksum": "cf433779ad9162e4bff9725833fbceb0",
          "grade": false,
          "grade_id": "cell-614a1b162b50f1ed",
          "locked": true,
          "schema_version": 1,
          "solution": false
        },
        "id": "YVF6b6cSZagC"
      },
      "outputs": [],
      "source": [
        "%load_ext autoreload"
      ]
    },
    {
      "cell_type": "code",
      "execution_count": null,
      "metadata": {
        "deletable": false,
        "editable": false,
        "nbgrader": {
          "checksum": "02d3f1caad089b846657d31dc1e401b6",
          "grade": false,
          "grade_id": "cell-8a982dd433cb6b32",
          "locked": true,
          "schema_version": 1,
          "solution": false
        },
        "id": "pKTdIfaFZagD",
        "outputId": "62052bb0-b0f4-4f54-e299-b8cf9e1b9115"
      },
      "outputs": [
        {
          "name": "stdout",
          "output_type": "stream",
          "text": [
            "You're running python 3.6.8\n",
            "GPU is available: True\n"
          ]
        }
      ],
      "source": [
        "%autoreload 2\n",
        "# import PyTorch\n",
        "import torch\n",
        "import torch.nn as nn\n",
        "from torch.nn import functional as F\n",
        "import torch.utils.data\n",
        "\n",
        "# Set the seed for PyTorch random number generator\n",
        "torch.manual_seed(1)\n",
        "\n",
        "# If gpu is supported, then seed the gpu random number generator as well\n",
        "gpu_available = torch.cuda.is_available()\n",
        "if gpu_available:\n",
        "    torch.cuda.manual_seed(1)\n",
        "    \n",
        "\n",
        "\n",
        "import sys\n",
        "import matplotlib.pyplot as plt\n",
        "from helper import *\n",
        "\n",
        "%matplotlib notebook\n",
        "print('You\\'re running python %s' % sys.version.split(' ')[0])\n",
        "print (\"GPU is available:\",gpu_available)"
      ]
    },
    {
      "cell_type": "markdown",
      "metadata": {
        "deletable": false,
        "editable": false,
        "nbgrader": {
          "checksum": "f9b076546bc04f0455761e9007c1d7aa",
          "grade": false,
          "grade_id": "cell-69c08fd91b471012",
          "locked": true,
          "schema_version": 1,
          "solution": false
        },
        "id": "Z0zOH5ELZagF"
      },
      "source": [
        "## Deep Averaging Network\n",
        "###  Part One: Load Dataset\n",
        "\n",
        "We use the <a href=https://www.cs.jhu.edu/~mdredze/datasets/sentiment/>multi-domain sentiment</a> dataset created by Professor <a href=https://www.cs.jhu.edu/~mdredze/>Mark Dredze</a> for our project. This dataset contains product reviews taken from Amazon.com from many product types and the reviews are labeled positive and negative. In particular, we only consider the reviews for book for our project. To make things easier for you, we also created a dictionary where you will only consider the words in this dictionary when you are constructing the word embedding for your deep averaging network. Run the following two cells to load the data and see a positive and a negative review:"
      ]
    },
    {
      "cell_type": "code",
      "execution_count": null,
      "metadata": {
        "deletable": false,
        "editable": false,
        "nbgrader": {
          "checksum": "8459c105e88f5103ef625cd0c195b66e",
          "grade": false,
          "grade_id": "cell-cae72470a03f1d0b",
          "locked": true,
          "schema_version": 1,
          "solution": false
        },
        "id": "STriRdp3ZagF",
        "outputId": "5f676da5-43b8-4fcb-f5d3-aba2e416b80a"
      },
      "outputs": [
        {
          "name": "stdout",
          "output_type": "stream",
          "text": [
            "Number of Training Reviews:  1787\n",
            "Number of Test Reviews:  200\n",
            "Number of Words in the Vocabulary:  4380\n"
          ]
        }
      ],
      "source": [
        "# First load data\n",
        "# Calling load_data return the training review, test review and vocabulary\n",
        "# review_train and review_test are stored as pandas dataframe\n",
        "# vocabulary is dictionary with key-value pairs (word, index)\n",
        "# vocabulary[word] = index\n",
        "# We will use this vocabulary to construct bag-of-word (bow) features\n",
        "review_train, review_test, vocab = load_data()\n",
        "\n",
        "# label 0 == Negative reviews\n",
        "# label 1 == Positive reviews\n",
        "label_meaning = ['Negative', 'Positive']\n",
        "\n",
        "print('Number of Training Reviews: ', review_train.shape[0])\n",
        "print('Number of Test Reviews: ', review_test.shape[0])\n",
        "print('Number of Words in the Vocabulary: ', len(vocab))"
      ]
    },
    {
      "cell_type": "code",
      "execution_count": null,
      "metadata": {
        "id": "P_RenkJlZagG",
        "outputId": "a670c0e6-5fc9-4b46-854b-26345954f4f0"
      },
      "outputs": [
        {
          "name": "stdout",
          "output_type": "stream",
          "text": [
            "                                                 review  label\n",
            "0     This was perhaps the best of Johannes Steinhof...    1.0\n",
            "1     This very fascinating book is a story written ...    1.0\n",
            "2     I did enjoy this book as it was my first intro...    1.0\n",
            "3     Truly the author's pen is mightier than the sw...    1.0\n",
            "4     Thirty years later and this classic remains a ...    1.0\n",
            "...                                                 ...    ...\n",
            "1782  I see where this would be appealing to sum. I ...    0.0\n",
            "1783  \"Tourists are learning that the image of the t...    0.0\n",
            "1784  I admittedly have not completed the full book,...    0.0\n",
            "1785  \\n\\tI grew up reading Harold Evan's Sunday Tim...    0.0\n",
            "1786  I got to page 26 and gave up.  Lockes writings...    0.0\n",
            "\n",
            "[1787 rows x 2 columns]\n"
          ]
        }
      ],
      "source": [
        "print(review_train)"
      ]
    },
    {
      "cell_type": "code",
      "execution_count": null,
      "metadata": {
        "id": "u2wBT1eAZagG",
        "outputId": "0ae1366a-9f30-466a-d198-63ab0757788e"
      },
      "outputs": [
        {
          "name": "stdout",
          "output_type": "stream",
          "text": [
            "{'this': 3960, 'was': 4235, 'perhaps': 2845, 'the': 3933, 'best': 429, 'of': 2694, 'books': 478, 'since': 3564, 'it': 2138, 'does': 1161, 'not': 2657, 'deal': 987, 'with': 4313, 'his': 1880, 'own': 2774, 'yet': 4370, 'tragic': 4036, 'ii': 1963, 'and': 213, 'post': 2952, 'war': 4228, 'career': 577, 'insights': 2055, 'average': 344, 'person': 2847, 'living': 2335, 'in': 2004, 'germany': 1693, 'are': 267, 'great': 1752, 'importance': 1992, 'to': 3997, 'both': 489, 'social': 3601, 'military': 2505, 'historians': 1882, 'alike': 171, 'offered': 2698, 'collective': 718, 'testament': 3919, 'as': 296, 'warning': 4233, 'all': 173, 'us': 4150, 'regarding': 3217, 'rise': 3338, 'said': 3392, 'an': 208, 'interview': 2092, 'quot': 3116, 'is': 2128, 'always': 191, 'who': 4281, 'suffer': 3791, 'most': 2552, 'least': 2266, 'very': 4181, 'fascinating': 1488, 'book': 477, 'story': 3728, 'written': 4362, 'form': 1606, 'numerous': 2676, 'letters': 2289, 'personal': 2848, 'diary': 1082, 'entries': 1333, 'made': 2383, 'by': 548, 'principle': 3008, 'character': 636, 'life': 2299, 'young': 4373, 'scottish': 3434, 'woman': 4319, 'forced': 1594, 'live': 2331, 'first': 1554, 'china': 660, 'then': 3940, 'japan': 2149, 'well': 4264, 'historically': 1885, 'accurate': 87, 'obvious': 2687, 'author': 339, 'familiar': 1475, 'culture': 951, 'history': 1887, 'style': 3768, 'makes': 2395, 'that': 3931, 'much': 2575, 'more': 2549, 'interesting': 2084, 'for': 1592, 'those': 3964, 'enjoy': 1313, 'realism': 3163, 'demand': 1023, 'accuracy': 86, 've': 4174, 'ever': 1371, 'lived': 2332, 'believable': 416, 'tale': 3862, 'literally': 2327, 'you': 4372, 'feel': 1506, 'back': 360, 'time': 3986, 'machine': 2380, 'witness': 4316, 'birth': 453, 'modern': 2535, 'haven': 1825, 'believe': 417, 'has': 1818, 'done': 1170, 'simply': 3563, 'just': 2185, 'creating': 921, 'fictional': 1521, 'setting': 3494, 'mind': 2511, 'because': 394, 'he': 1829, 'able': 59, 'focus': 1576, 'on': 2711, 'versus': 4180, 'scene': 3419, 'development': 1073, 'thus': 3981, 'creates': 920, 'your': 4375, 'covers': 910, 'over': 2766, '40': 44, 'years': 4368, 'through': 3977, 'her': 1856, 'trials': 4062, 'tribulations': 4063, 'shows': 3543, 'how': 1926, 'strength': 3740, 'serve': 3485, 'events': 1368, 'gripping': 1760, 'draws': 1192, 'emotions': 1279, 'constantly': 829, 'rooting': 3363, 'when': 4273, 'last': 2235, 'page': 2783, 'read': 3153, 'leaves': 2268, 'would': 4352, 'continue': 846, 'but': 544, 'even': 1366, 'good': 1729, 'must': 2584, 'end': 1296, 'be': 386, 'prepared': 2981, 'sit': 3569, 'spell': 3659, 'once': 2712, 'start': 3689, 'reading': 3157, 'll': 2336, 'find': 1542, 'hard': 1812, 'put': 3096, 'down': 1178, 'did': 1086, 'my': 2586, 'introduction': 2102, 'therapy': 3945, 'topic': 4012, 'intend': 2077, 'explore': 1432, 'further': 1654, 'too': 4007, 'helpful': 1850, 'gave': 1672, 'information': 2039, 'truly': 4077, 'pen': 2835, 'than': 3927, 'sword': 3847, 'takes': 3860, 'christmas': 675, 'parents': 2801, 'children': 659, 'christians': 674, 'from': 1638, 'result': 3299, 'during': 1213, 'keeping': 2192, 'up': 4143, 'short': 3533, 'selling': 3466, 'me': 2448, 'talk': 3866, 'pretty': 2997, 'some': 3615, 'day': 983, 'humorous': 1937, 'at': 320, 'its': 2143, 'one': 2713, 'can': 560, 'fear': 1500, 'missing': 2526, 'insight': 2053, 'into': 2095, 'american': 200, 'three': 3972, 'stories': 3726, 'appear': 246, 'changes': 631, 'protect': 3058, 'innocent': 2047, 'tells': 3904, 'others': 2752, 'another': 227, 'regardless': 3218, 'pulls': 3085, 'no': 2643, 'will': 4293, 'have': 1824, 'reader': 3155, 'if': 1957, 'there': 3946, 'little': 2330, 'guilt': 1778, 'attached': 322, 'feeling': 1507, 'thirty': 3959, 'later': 2238, 'classic': 692, 'remains': 3247, 'compelling': 764, 'thousand': 3969, 'perspective': 2853, 'interested': 2083, 'building': 536, 'eye': 1449, 'view': 4190, 'where': 4275, 'we': 4246, 'came': 556, 'motivated': 2557, 'science': 3428, 'reason': 3171, 'based': 377, 'treatise': 4054, 'intent': 2080, 'learning': 2264, 'about': 61, 'our': 2755, 'remarkable': 3248, 'natural': 2610, 'other': 2751, 'dr': 1182, 'maybe': 2447, 'easier': 1229, 'started': 3690, 'am': 192, 'mid': 2499, 'point': 2921, 'likely': 2308, 'review': 3312, 'authors': 341, 'give': 1706, 'motivation': 2558, 'design': 1050, 'decisions': 1003, 'behind': 411, 'they': 3950, 'also': 186, 'many': 2412, 'examples': 1393, 'allow': 175, 'get': 1694, 'really': 3169, 'important': 1993, 'concepts': 786, 'running': 3379, 'actual': 103, 'thing': 3953, 'looking': 2350, 'impact': 1986, 'performance': 2844, 'practice': 2962, 'opposed': 2731, 'theory': 3944, 'evolve': 1383, 'next': 2636, 'couple': 900, 'decades': 995, 'don': 1169, 'know': 2211, 'whether': 4277, 'enough': 1321, 'create': 918, 'background': 361, 'still': 3714, 'lot': 2361, 'out': 2757, 'chapters': 635, 'plus': 2914, 'references': 3204, 'articles': 289, 'subject': 3771, 'expect': 1412, 'easy': 1233, 'using': 4159, 'systems': 3854, 'say': 3412, 'seems': 3457, 'been': 399, 'thought': 3966, 'real': 3162, 'therefore': 3947, 'trivial': 4072, 'what': 4270, 'so': 3600, 'far': 1484, 'lives': 2334, 'begins': 406, 'relating': 3230, 'bush': 542, 'term': 3909, 'without': 4315, 'personally': 2851, 'discussing': 1132, 'him': 1874, 'making': 2396, 'matters': 2444, 'worse': 4345, 'fact': 1457, 'didn': 1087, 'why': 4287, 'white': 4280, 'house': 1924, 'often': 2704, 'called': 553, 'emphasis': 1281, 'placed': 2885, 'work': 4333, 'education': 1248, 'early': 1224, 'nyc': 2678, 'area': 268, 'suffered': 3792, 'any': 234, 'racial': 3121, 'prejudice': 2977, 'unfortunately': 4123, 'were': 4266, 'quite': 3115, 'determined': 1068, 'let': 2286, 'them': 3936, 'student': 3759, 'high': 1868, 'school': 3425, 'however': 1928, 'year': 4367, 'interest': 2082, 'soon': 3626, 'became': 393, 'went': 4265, 'selected': 3460, 'outstanding': 2765, 'top': 4011, 'graduate': 1740, 'or': 2735, 'close': 702, 'every': 1372, 'training': 4040, 'george': 1691, 'washington': 4236, 'university': 4133, 'almost': 179, 'assignment': 311, 'leading': 2259, 'being': 412, 'which': 4278, 'turn': 4083, 'provided': 3066, 'travel': 4047, 'russia': 3383, 'brought': 525, 'contact': 836, 'number': 2674, 'influential': 2036, 'people': 2836, 'impressed': 1997, 'forward': 1614, 'onto': 2719, 'national': 2607, 'security': 3448, 'advisor': 132, 'state': 3693, 'secrets': 3445, 'success': 3781, 'enthusiastically': 1328, 'implement': 1988, 'considered': 823, 'silly': 3555, 'himself': 1875, 'believed': 418, 'doing': 1166, 'otherwise': 2753, 'careers': 578, 'talented': 3864, 'eventually': 1370, 'dick': 1083, 'bit': 454, 'problem': 3018, 'serious': 3483, 'between': 432, 'right': 3331, 'bias': 435, 'per': 2838, 'disjointed': 1138, 'decision': 1002, 'contributions': 857, 'limited': 2311, 'help': 1848, 'addition': 107, 'left': 2274, 'especially': 1348, 'country': 898, 'ultimately': 4104, 'credibility': 929, 'speech': 3656, 'big': 440, 'question': 3106, 'nature': 2612, 'anything': 238, 'less': 2282, '100': 2, 'support': 3817, 'bottom': 491, 'line': 2313, 'had': 1788, 'such': 3785, 'telling': 3903, 'candidates': 562, 'run': 3377, 'ignoring': 1962, 'position': 2945, 'today': 3998, 'possibly': 2951, 'president': 2989, 'similarly': 3558, 'instead': 2066, 'replaced': 3266, 'might': 2501, 'become': 395, 'programming': 3037, 'whole': 4283, 'new': 2632, 'world': 4340, 'logical': 2342, 'complex': 775, 'thinking': 3956, 'could': 891, 'never': 2630, 'understood': 4119, 'magnificent': 2387, 'touch': 4018, 'gives': 1708, 'applies': 256, 'simple': 3560, 'explain': 1424, 'instances': 2064, 'humor': 1936, 'intelligence': 2075, 'else': 1269, 'want': 4224, 'excellent': 1394, 'recommended': 3190, 'depth': 1040, 'late': 2237, '1980s': 18, 'investment': 2110, 'friend': 1633, 'knew': 2209, 'wanted': 4225, 'go': 1716, 'decided': 999, 'unnecessarily': 4138, 'long': 2346, 'meticulous': 2496, 'explaining': 1426, 'everything': 1376, 'involved': 2114, 'single': 3566, 'meeting': 2468, 'conversation': 863, 'two': 4096, 'mentioned': 2481, 'present': 2984, 'incredible': 2018, 'job': 2158, 'happened': 1807, 'nonetheless': 2648, 'someone': 3618, 'wall': 4222, 'street': 3738, 'everyone': 1375, 'likes': 2309, 'non': 2646, 'fiction': 1520, 'superb': 3811, 'greed': 1756, 'era': 1343, 'look': 2348, 'inside': 2052, 'foster': 1615, 'care': 575, 'system': 3853, 'needed': 2620, 'dave': 980, 'saved': 3409, 'taken': 3859, 'mother': 2554, 'home': 1900, 'clear': 695, 'despite': 1056, 'positive': 2947, 'change': 629, 'certainly': 622, 'mean': 2450, 'happily': 1810, 'after': 141, 'struggled': 3755, 'issues': 2137, 'ranging': 3135, 'knowing': 2212, 'mere': 2484, 'basics': 381, 'twelve': 4089, 'age': 145, 'take': 3858, 'proper': 3050, 'behave': 407, 'struggle': 3754, 'these': 3948, 'working': 4337, 'homes': 1903, 'coming': 736, 'think': 3955, 'myself': 2588, 'included': 2009, 'unaware': 4107, 'need': 2619, 'themselves': 3939, 'wonderful': 4324, 'cause': 605, 'thanks': 3930, 'again': 143, 'having': 1826, 'courage': 901, 'share': 3509, 'beautiful': 390, 'anybody': 235, 'golf': 1726, 'course': 902, 'beach': 387, 'wonder': 4322, 'changed': 630, 'seeing': 3450, 'old': 2709, 'photos': 2868, 'following': 1584, 'buy': 546, 'won': 4321, 'disappointed': 1117, 'thorough': 3962, 'comes': 731, 'showing': 3541, 'do': 1156, 'techniques': 3892, 'different': 1094, 'variations': 4170, 'beginner': 403, 'starting': 3691, 'bought': 492, 'beginning': 405, 'study': 3763, 'judaism': 2175, 'spiritual': 3666, 'journey': 2172, 'includes': 2010, 'recommendations': 3189, 'readings': 3158, 'pictures': 2878, 'throughout': 3978, 'various': 4172, 'times': 3989, 'pleased': 2908, 'paragraph': 2798, 'format': 1608, 'only': 2718, 'bible': 438, 'part': 2805, 'like': 2305, 'ease': 1228, 'highly': 1871, 'discovered': 1126, 'london': 2343, 'large': 2231, 'needs': 2622, 'pages': 2784, 'illustrate': 1968, 'finest': 1546, 'tom': 4001, 'works': 4339, 'artist': 291, 'unique': 4127, 'appreciate': 259, 'fantastic': 1482, 'collection': 717, 'art': 286, 'black': 458, 'compiled': 769, 'man': 2398, 'delightful': 1018, 'master': 2432, 'volume': 4210, 'valuable': 4166, 'tool': 4009, 'erotic': 1344, 'artists': 293, 'waiting': 4216, 'growing': 1767, 'arranged': 279, 'edited': 1240, 'st': 3677, 'anthology': 232, 'essays': 1351, 'poems': 2916, 'drawn': 1191, 'diversity': 1151, 'whom': 4285, 'daily': 965, 'region': 3220, 'north': 2655, 'america': 199, 'suitable': 3802, 'readers': 3156, 'ages': 151, 'memorable': 2473, 'tales': 3865, 'illustrations': 1971, 'make': 2394, 'land': 2227, 'creatures': 927, 'saw': 3411, 'upon': 4145, 'come': 729, 'alive': 172, 'readable': 3154, 'oriented': 2745, 'general': 1678, 'chapter': 634, 'autobiography': 342, 'experiences': 1420, 'medical': 2463, 'doctor': 1157, 'trained': 4039, 'ph': 2857, 'studied': 3761, 'human': 1932, 'tools': 4010, 'used': 4154, 'cases': 593, 'worked': 4334, 'notes': 2661, 'drug': 1206, 'trade': 4030, 'provides': 3067, 'crimes': 933, 'serial': 3481, 'discusses': 1131, 'suicide': 3801, 'kill': 2200, 'distinguish': 1146, 'murder': 2577, 'florida': 1570, 'explains': 1427, 'developed': 1071, 'response': 3293, 'murders': 2579, 'famous': 1478, 'relatively': 3235, 'bone': 475, 'rock': 3348, 'taste': 3875, 'says': 3414, 'solid': 3609, 'use': 4153, 'capital': 565, 'punishment': 3086, 'methods': 2495, 'emotionally': 1278, '10': 1, '11': 3, 'difficult': 1096, 'case': 592, 'dead': 986, 'linked': 2316, 'shocking': 3527, 'double': 1174, 'mistake': 2528, 'sending': 3469, 'their': 3935, 'daughter': 978, 'away': 352, 'failure': 1466, '12': 4, 'deals': 989, 'vietnam': 4189, 'compared': 758, 'hollywood': 1897, 'movies': 2570, 'created': 919, 'popular': 2937, 'image': 1972, 'captured': 569, 'men': 2476, 'describes': 1043, 'army': 277, 'central': 617, 'identifies': 1950, 'recovered': 3196, 'office': 2701, '13': 5, 'investigation': 2108, 'recognize': 3183, 'correct': 884, 'taylor': 3878, 'tests': 3921, 'told': 4000, '14': 6, 'free': 1627, 'states': 3697, 'policies': 2927, '15': 7, 'may': 2446, 'team': 3886, 'identified': 1949, 'family': 1477, 'political': 2930, 'conclusions': 795, 'teeth': 3900, '16': 9, 'five': 1558, 'college': 719, 'students': 3760, 'days': 984, 'weapon': 4250, 'concludes': 793, 'complaint': 770, 'few': 1518, 'crime': 932, 'union': 4126, 'each': 1219, 'government': 1734, 'realistic': 3164, 'portion': 2939, 'whenever': 4274, 'research': 3280, 'manager': 2402, 'money': 2539, 'budget': 534, 'leadership': 2258, 'experience': 1418, 'consider': 820, 'learned': 2263, 'activity': 101, 'solving': 3614, 'problems': 3019, 'found': 1617, 'continually': 845, 'going': 1723, 'lead': 2255, 'situation': 3572, 'involving': 2117, 'try': 4080, 'step': 3707, 'solve': 3612, 'impossible': 1995, 'anyway': 239, 'described': 1042, 'johnson': 2163, 'successful': 3783, 'leader': 2256, 'civil': 685, 'rights': 3334, 'discussion': 1133, 'authority': 340, 'ground': 1763, 'discuss': 1129, 'worship': 4346, 'institute': 2067, 'website': 4255, 'way': 4244, 'variety': 4171, 'leaders': 2257, 'society': 3603, 'cookbook': 870, 'favorites': 1499, 'grew': 1759, 'se': 3436, 'texas': 3922, 'moved': 2566, 'food': 1586, 'compare': 757, 'now': 2671, 'understanding': 4117, 'recipes': 3182, 'exact': 1386, 'delicious': 1016, 'love': 2365, 'cook': 869, 'favorite': 1498, 'meals': 2449, 'definately': 1010, 'lover': 2368, 'reccomend': 3176, 'mouth': 2564, 'water': 4242, 'status': 3700, 'report': 3267, 'current': 957, 'evolution': 1381, 'speak': 3647, 'specifically': 3654, 'intelligent': 2076, 'behavior': 408, 'date': 975, 'scientists': 3431, 'experienced': 1419, 'options': 2734, 'personalities': 2849, 'recommend': 3187, 'ways': 4245, 'pace': 2778, 'scientific': 3429, 'revolution': 3319, 'words': 4331, 'suggests': 3800, 'given': 1707, 'vast': 4173, 'increase': 2015, 'available': 343, 'possible': 2950, 'attention': 330, 'probably': 3017, 'minds': 2513, 'rapidly': 3138, 'intense': 2079, 'consciousness': 815, 'around': 278, 'begin': 402, 'within': 4314, 'ourselves': 2756, 'faster': 1492, 'slower': 3590, 'companion': 755, 'contradictory': 851, 'should': 3537, 'activities': 100, 'along': 181, 'advice': 130, 'recommendation': 3188, 'keep': 2190, 'seemingly': 3456, 'endless': 1300, 'rhythm': 3323, 'slowly': 3591, 'horses': 1918, 'night': 2640, 'textbook': 3924, 'market': 2418, 'content': 842, 'merely': 2485, 'fine': 1545, 'detail': 1062, 'alternative': 188, 'controversial': 861, 'opinions': 2728, 'topics': 4013, 'concerned': 788, 'active': 99, 'relevant': 3239, 'field': 1522, 'evolutionary': 1382, 'relationships': 3234, 'global': 1713, 'reference': 3202, 'earth': 1226, 'wish': 4308, 'knowledge': 2213, 'halfway': 1792, 'concerning': 789, 'difficulties': 1097, 'married': 2423, 'face': 1452, 'entering': 1323, 'profession': 3028, 'recently': 3180, 'beginners': 404, 'follow': 1581, 'scott': 3433, 'witch': 4312, 'elizabeth': 1267, 'shelf': 3517, 'happy': 1811, 'took': 4008, 'wake': 4217, 'inform': 2038, 'friends': 1635, 'health': 1835, 'lifestyle': 2300, 'eating': 1235, 'habits': 1786, 'wrote': 4364, 'killing': 2203, 'leave': 2267, 'loved': 2366, 'ones': 2714, 'filled': 1534, 'tons': 4005, 'relate': 3227, 'understand': 4115, 'actually': 104, 'happening': 1808, 'body': 471, 'dad': 964, 'gone': 1727, 'drinking': 1198, 'half': 1791, 'accident': 79, 'unlike': 4136, 'novels': 2669, 'tend': 3907, 'happen': 1806, 'future': 1657, 'orange': 2736, 'focuses': 1578, 'individual': 2026, 'protagonist': 3056, 'alex': 167, 'already': 184, 'criminal': 934, 'streets': 3739, 'band': 369, 'taking': 3861, 'advantage': 126, 'opportunity': 2730, 'havoc': 1827, 'boys': 498, 'victim': 4185, 'pleasure': 2909, 'act': 95, 'disturbing': 1149, 'aspect': 305, 'manage': 2399, 'maintain': 2391, 'strange': 3732, 'sort': 3631, 'innocence': 2046, 'commit': 744, 'violent': 4197, 'aren': 270, 'toward': 4024, 'matter': 2443, 'pick': 2874, 'fun': 1648, 'particular': 2806, 'break': 504, 'goes': 1722, 'horribly': 1916, 'finds': 1544, 'prison': 3013, 'though': 3965, 'manages': 2404, 'illusion': 1967, 'see': 3449, 'impression': 1998, 'sense': 3472, 'morality': 2546, 'chosen': 669, 'program': 3036, 'designed': 1051, 'rid': 3327, 'desire': 1052, 'acts': 102, 'violence': 4196, 'treatment': 4055, 'choice': 663, 'raises': 3129, 'freedom': 1628, 'narrated': 2601, 'language': 2230, 'invented': 2105, 'youth': 4378, 'engage': 1307, 'example': 1392, 'sentence': 3476, 'opening': 2722, 'looked': 2349, 'four': 1619, 'pg': 2856, 'stick': 3712, 'develop': 1070, 'yourself': 4377, 'difficulty': 1098, 'nice': 2637, 'comprehensive': 780, 'wikipedia': 4291, 'search': 3438, 'english': 1311, 'due': 1209, 'guidelines': 1776, 'allowed': 176, 'include': 2008, 'direct': 1105, 'link': 2315, 'terms': 3911, 'word': 4330, 'final': 1538, 'note': 2659, 'original': 2747, 'british': 518, 'publication': 3076, '21': 33, 'edition': 1242, 'published': 3078, 'united': 4129, 'dropped': 1204, 'version': 4178, 'publishers': 3080, '21st': 34, 'isn': 2132, 'decide': 998, 'tell': 3901, 'presence': 2983, 'huge': 1929, 'difference': 1092, 'overall': 2767, 'message': 2488, 'place': 2884, 'offers': 2700, 'cannot': 563, 'hand': 1795, 'hope': 1910, 'beyond': 434, 'interpretation': 2091, 'got': 1732, 'crisis': 935, 'picked': 2875, 'canadian': 561, 'un': 4105, 'effort': 1256, 'genocide': 1686, 'tragedy': 4035, 'walk': 4218, 'guy': 1783, 'commitment': 745, 'stay': 3701, 'spite': 3668, 'nations': 2608, 'key': 2196, 'role': 3352, 'stood': 3720, 'nearly': 2615, 'jews': 2156, 'wwii': 4365, 'faith': 1470, 're': 3149, 'plenty': 2910, 'action': 97, 'plot': 2912, 'writing': 4360, 'rating': 3144, 'usage': 4152, 'above': 62, 'certain': 621, 'level': 2291, 'bad': 364, 'prevent': 2998, 'badly': 365, 'power': 2957, 'simplicity': 3561, 'marketing': 2419, 'strategy': 3736, 'idea': 1945, 'aspects': 306, 'full': 1646, 'useful': 4155, 'suggestions': 3799, 'although': 189, 'educational': 1249, 'entertaining': 1325, 'wit': 4311, 'shines': 3523, 'descriptions': 1046, 'entertainment': 1326, 'tricks': 4065, 'heart': 1840, 'copy': 877, 'quality': 3101, 'brown': 526, 'set': 3492, 'mary': 2428, 'uses': 4158, 'childhood': 658, 'motivate': 2556, 'travels': 4049, 'africa': 139, 'child': 657, 'ill': 1964, 'father': 1495, 'rarely': 3140, 'attended': 329, 'she': 3514, 'loves': 2370, 'escape': 1347, 'adult': 121, 'revealing': 3307, 'happens': 1809, 'parent': 2800, 'kept': 2195, 'sure': 3824, 'yours': 4376, 'son': 3623, 'honored': 1908, 'rest': 3298, 'favor': 1497, 'publishing': 3081, 'shorter': 3535, 'film': 1536, 'literature': 2329, 'communication': 749, 'medium': 2466, 'devoted': 1078, 'arena': 271, 'benefits': 427, 'associated': 313, 'provide': 3065, 'movie': 2569, 'scenes': 3420, 'prove': 3062, 'reviewers': 3315, 'noted': 2660, 'description': 1045, 'chicago': 653, 'democratic': 1027, 'finally': 1539, 'pieces': 2881, 'ugly': 4102, 'gets': 1695, 'rolling': 3355, 'william': 4294, 'writers': 4358, 'henry': 1855, 'green': 1758, 'write': 4356, 'criticism': 938, 'flows': 1572, 'stuff': 3765, 'seen': 3458, 'interviews': 2094, 'questions': 3109, 'appeared': 249, 'pulled': 3084, 'technology': 3893, 'specific': 3653, 'utterly': 4162, 'accessible': 78, 'appropriate': 264, 'amount': 204, 'balance': 367, 'dedicated': 1005, 'type': 4098, 'company': 756, 'profit': 3034, 'public': 3075, 'serves': 3487, 'implementation': 1989, 'plan': 2889, 'rare': 3139, 'insightful': 2054, 'legends': 2277, 'began': 401, 'decade': 994, 'ago': 153, 'describing': 1044, 'process': 3020, 'planning': 2893, 'existing': 1409, 'mixed': 2531, 'basic': 379, 'structure': 3751, 'cities': 681, 'until': 4141, 'before': 400, 'principles': 3009, 'mechanics': 2460, 'teachers': 3882, 'frustrated': 1641, 'schools': 3426, 'equipment': 1341, 'adequate': 115, 'larry': 2234, 'explores': 1434, 'offering': 2699, 'explanation': 1428, 'dollars': 1167, 'spent': 3663, 'across': 94, 'nation': 2606, 'computers': 782, 'academic': 73, 'solutions': 3611, 'provoking': 3070, 'piece': 2880, 'politicians': 2932, 'vision': 4201, 'added': 106, 'poetry': 2919, 'imagery': 1973, 'improve': 2001, 'skills': 3579, 'low': 2372, 'twists': 4095, 'mysterious': 2590, 'ingredients': 2042, 'etc': 1360, 'self': 3462, 'women': 4320, 'alexander': 168, 'cd': 609, 'combination': 726, 'novice': 2670, 'practitioner': 2964, 'masterfully': 2434, 'crafted': 913, 'guide': 1775, 'guidance': 1774, 'spoken': 3672, 'addressing': 113, 'wide': 4288, 'array': 280, 'while': 4279, 'true': 4076, 'title': 3994, 'directly': 1109, 'fashioned': 1490, 'pregnancy': 2975, 'labor': 2218, 'delivery': 1021, 'universal': 4130, 'common': 747, 'pain': 2786, 'management': 2401, 'finding': 1543, 'instructions': 2070, 'gaining': 1662, 'benefit': 426, 'skip': 3581, 'perspectives': 2854, 'earlier': 1223, 'directions': 1108, 'including': 2011, 'define': 1011, 'suggestion': 3798, 'accepted': 76, 'attitude': 331, 'concept': 785, '45': 45, 'presentation': 2985, 'sets': 3493, 'stage': 3679, 'environment': 1335, 'ability': 58, 'together': 3999, 'promote': 3047, 'conscious': 814, 'processes': 3021, 'transformation': 4042, 'assistance': 312, 'explained': 1425, 'exercises': 1406, 'audience': 335, 'immediate': 1982, 'framework': 1621, 'experiment': 1421, 'technique': 3891, 'attempt': 325, 'possibility': 2949, 'skill': 3578, 'significance': 3550, 'comfort': 732, 'bonus': 476, 'accompanying': 80, 'mixing': 2532, 'teaching': 3884, 'method': 2493, 'levels': 2292, 'exploration': 1431, 'partner': 2810, 'visual': 4205, 'rather': 3143, 'direction': 1107, 'approach': 262, 'ma': 2378, 'managing': 2405, 'editor': 1244, 'learn': 2262, 'exactly': 1387, 'tired': 3992, 'trying': 4081, 'functions': 1650, 'online': 2717, 'appears': 250, 'lists': 2325, 'critics': 941, 'known': 2214, 'deserve': 1048, 'placing': 2887, 'answer': 228, 'depends': 1034, 'viewpoint': 4192, 'supposed': 3821, 'accomplish': 81, 'causes': 607, 'property': 3052, 'greatly': 1755, 'major': 2392, 'side': 3545, 'effect': 1251, 'user': 4157, 'nine': 2641, 'months': 2542, 'follows': 1585, 'louis': 2364, 'genius': 1685, 'standards': 3684, 'standard': 3683, 'constructed': 831, 'means': 2454, 'journal': 2169, 'encouraged': 1293, 'extremely': 1448, 'similar': 3556, 'daniel': 972, 'comparison': 760, 'invited': 2112, 'emphasizes': 1282, 'hero': 1859, 'struggles': 3756, 'bits': 455, 'mankind': 2408, 'against': 144, 'sub': 3770, 'normal': 2653, 'camp': 557, 'concentration': 784, 'completely': 774, 'path': 2823, 'essential': 1353, 'humanity': 1933, 'meaningful': 2452, 'initially': 2044, 'documents': 1160, 'apparently': 243, 'investigate': 2107, 'providing': 3068, 'meanwhile': 2456, 'caught': 604, 'play': 2900, 'entitled': 1331, 'comedy': 730, 'something': 3619, 'playing': 2904, 'names': 2599, 'titles': 3996, 'produce': 3022, 'meaning': 2451, 'straightforward': 3731, 'fairly': 1468, 'effective': 1252, 'tone': 4003, 'primary': 3004, 'here': 1857, 'dark': 973, 'atmosphere': 321, 'vocabulary': 4208, 'buried': 540, 'open': 2720, 'psychological': 3073, 'theories': 3943, 'lost': 2360, 'places': 2886, 'areas': 269, 'clearly': 697, 'themes': 3938, 'corruption': 887, 'desires': 1054, 'absolute': 64, 'capable': 564, 'leads': 2260, 'complete': 772, 'ending': 1299, 'felt': 1513, 'doesn': 1162, 'seem': 3454, 'fit': 1556, 'ex': 1385, 'discourse': 1124, 'presented': 2986, 'sometimes': 3620, 'disappointment': 1119, 'entry': 1334, 'afraid': 138, 'opinion': 2727, 'worth': 4348, 'nothing': 2662, 'reviewed': 3313, 'required': 3277, 'harvard': 1817, 'researcher': 3282, 'myths': 2593, 'aging': 152, 'ms': 2574, 'beauty': 392, 'images': 1974, 'media': 2462, 'rewarding': 3321, 'sleep': 3586, 'reminded': 3253, 'yes': 4369, 'intellectual': 2074, 'differences': 1093, 'according': 83, 'store': 3724, 'female': 1514, 'miss': 2523, 'suppose': 3820, 'internet': 2090, 'allows': 178, 'reviews': 3317, 'twentieth': 4090, 'century': 620, 'describe': 1041, 'recipe': 3181, 'police': 2926, 'philosophy': 2862, 'arrogance': 284, 'enjoyable': 1314, 'waste': 4238, 'wing': 4302, 'conspiracy': 827, 'tied': 3983, 'islam': 2129, 'communism': 750, 'presents': 2988, 'facts': 1460, 'sees': 3459, 'former': 1609, 'dirt': 1111, 'liberal': 2294, 'news': 2633, 'causing': 608, 'several': 3497, 'tongue': 4004, 'surprisingly': 3831, 'frank': 1624, 'tim': 3985, 'bob': 469, 'reads': 3159, 'attack': 323, 'dan': 968, 'conservative': 818, 'throw': 3979, 'hands': 1802, 'brief': 510, 'context': 844, 'communicate': 748, 'abundance': 70, 'queen': 3104, 'meet': 2467, 'anyone': 237, 'authentic': 338, 'wants': 4227, 'refreshing': 3213, 'projects': 3041, 'name': 2597, 'boy': 496, 'drawings': 1190, 'appreciation': 261, 'magic': 2385, 'holds': 1894, 'bring': 515, 'construction': 832, 'impressive': 1999, 'layman': 2253, 'assume': 315, 'fluff': 1573, 'overview': 2771, 'dirty': 1112, 'grisham': 1761, 'wasn': 4237, 'star': 3687, 'hoped': 1911, 'better': 431, 'supreme': 3823, 'court': 904, 'killed': 2201, 'law': 2247, 'curious': 956, 'figure': 1528, 'writes': 4359, 'hits': 1890, 'nail': 2594, 'head': 1830, 'wrong': 4363, 'enjoyed': 1315, 'mostly': 2553, 'fast': 1491, 'paced': 2779, 'characters': 640, 'suspenseful': 3842, 'reporter': 3268, 'starts': 3692, 'uncover': 4112, 'truth': 4079, 'apply': 257, 'lessons': 2285, 'elementary': 1264, 'teacher': 3881, 'traits': 4041, 'concrete': 796, 'markets': 2420, 'individuals': 2027, 'arab': 265, 'muslim': 2583, 'combat': 725, 'tough': 4022, 'valid': 4165, 'compilation': 768, 'ideas': 1947, 'flat': 1561, 'disagree': 1113, 'picture': 2877, 'spot': 3674, 'things': 3954, 'same': 3399, 'repeated': 3261, 'series': 3482, 'kids': 2199, 'build': 535, 'justice': 2186, 'girl': 1703, 'surprised': 3829, 'asked': 301, 'million': 2509, 'dont': 1171, 'agree': 154, 'previous': 2999, 'reviewer': 3314, 'scary': 3416, 'princess': 3006, 'fairy': 1469, 'dream': 1194, 'baby': 359, 'wild': 4292, 'sea': 3437, 'magical': 2386, 'fish': 1555, 'stars': 3688, 'prior': 3012, 'music': 2580, 'blowing': 464, 'guides': 1777, 'elements': 1265, 'piano': 2873, 'quickly': 3111, 'sharp': 3513, 'organized': 2743, 'diverse': 1150, 'attractive': 334, 'silent': 3554, 'shall': 3505, 'overcome': 2768, 'minor': 2517, 'prefer': 2974, 'teach': 3880, 'longer': 2347, 'cover': 906, 'player': 2902, 'dummies': 1212, 'particularly': 2807, 'preparation': 2979, 'feels': 1509, 'helped': 1849, 'wise': 4307, '20': 25, 'teaches': 3883, 'thoughtful': 3967, 'concise': 791, 'elsewhere': 1270, 'perfect': 2841, 'historical': 1884, '1970s': 16, 'simon': 3559, 'itself': 2144, 'tome': 4002, 'doubt': 1175, 'whose': 4286, 'backgrounds': 362, 'generally': 1679, 'wandering': 4223, 'orthodox': 2750, 'church': 677, 'informative': 2040, 'quick': 3110, 'main': 2388, 'points': 2925, 'list': 2318, 'finishing': 1550, 'howard': 1927, 'beautifully': 391, 'illustrated': 1969, 'smile': 3595, 'drew': 1196, 'wait': 4215, 'mike': 2502, 'philip': 2859, 'jack': 2145, 'chicken': 655, 'soup': 3638, 'soul': 3633, 'abilities': 57, 'coach': 709, 'seemed': 3455, 'directed': 1106, 'business': 543, 'gems': 1675, 'lengthy': 2281, 'wisdom': 4306, 'lines': 2314, 'move': 2565, 'tears': 3888, 'discovery': 1128, 'customer': 959, 'lee': 2273, 'mainly': 2389, 'films': 1537, 'biography': 448, 'purely': 3091, 'biographical': 446, 'contains': 840, 'fair': 1467, 'americans': 201, 'imagine': 1979, 'degree': 1015, 'poverty': 2956, 'third': 3958, 'countries': 897, 'rose': 3365, 'poor': 2934, 'entire': 1329, 'material': 2438, 'careful': 579, 'unusual': 4142, 'repetitive': 3265, 'phrases': 2869, 'fired': 1552, 'off': 2695, 'group': 1764, 'preparing': 2982, 'fire': 1551, 'brings': 517, 'demonstrate': 1028, 'colors': 723, 'bright': 512, 'appeal': 244, 'significant': 3551, 'moral': 2545, 'explosion': 1436, 'caused': 606, 'mess': 2487, 'flow': 1571, 'aloud': 183, 'holiday': 1896, 'gift': 1700, 'getting': 1696, 'purchase': 3087, 'greater': 1753, 'studying': 3764, 'class': 690, 'thank': 3928, 'gifts': 1702, 'paul': 2829, 'incredibly': 2019, 'notch': 2658, 'heroes': 1860, 'anti': 233, 'villains': 4195, 'equally': 1340, 'deep': 1006, 'frankly': 1625, 'fan': 1479, 'fantasy': 1483, 'definitely': 1013, 'regret': 3221, 'novel': 2668, 'powers': 2959, 'refer': 3201, 'concerns': 790, 'species': 3652, 'headed': 1832, 'economic': 1236, 'western': 4269, 'edge': 1239, 'farming': 1487, 'loose': 2352, 'population': 2938, 'changing': 632, 'scale': 3415, 'richard': 3326, 'brain': 499, 'function': 1649, 'reflected': 3209, 'personality': 2850, 'sister': 3568, 'younger': 4374, 'brother': 523, 'sexual': 3500, 'relations': 3232, 'writer': 4357, 'involves': 2116, 'return': 3302, 'entirely': 1330, 'partly': 2809, 'europe': 1364, 'gain': 1660, 'extra': 1445, 'measure': 2457, 'subtle': 3778, 'characteristics': 637, 'carefully': 580, 'marvelous': 2427, 'musical': 2581, 'warm': 4230, 'cold': 714, 'blended': 461, 'sweet': 3846, 'cares': 581, 'fulfill': 1644, 'dreams': 1195, 'quote': 3117, 'mark': 2417, 'chocolate': 662, 'chemistry': 652, 'rushed': 3381, 'remember': 3251, 'ordinary': 2740, 'deliver': 1019, 'race': 3119, 'unbelievable': 4108, 'cultural': 950, 'aware': 350, 'editions': 1243, 'under': 4113, 'oxford': 2777, 'philosophical': 2861, 'texts': 3926, 'cheap': 646, 'raw': 3148, 'text': 3923, 'ultimate': 4103, 'purchased': 3088, 'borrowed': 487, 'stolen': 3717, 'shown': 3542, 'color': 721, 'machines': 2381, 'regards': 3219, 'detailed': 1063, 'shapes': 3508, 'identify': 1951, 'identifying': 1952, 'item': 2141, 'creature': 926, 'mental': 2477, 'exercise': 1405, 'hardly': 1813, 'shadows': 3503, 'abstract': 67, 'amazing': 195, 'cat': 597, 'odd': 2693, 'artwork': 295, '19': 11, 'girls': 1705, 'imagination': 1977, 'translation': 4044, 'items': 2142, 'fight': 1526, 'theme': 3937, 'instance': 2063, 'range': 3134, 'thoughts': 3968, 'reality': 3165, 'vs': 4212, 'identity': 1954, 'among': 202, 'web': 4254, 'imagined': 1980, 'rely': 3244, 'suggest': 3796, 'bunch': 539, 'library': 2296, 'thread': 3971, 'influence': 2033, 'arabic': 266, 'spanish': 3646, 'heritage': 1858, 'spending': 3661, 'listed': 2319, 'radical': 3124, 'network': 2629, 'expecting': 1415, 'emerge': 1274, 'forth': 1612, 'exploring': 1435, 'peter': 2855, '1960': 13, 'extended': 1442, 'supplement': 3815, 'income': 2013, 'forms': 1610, 'sentences': 3477, 'beat': 389, 'keeps': 2193, 'touching': 4021, 'executed': 1404, 'tries': 4067, 'loss': 2358, 'surgery': 3827, 'joy': 2173, 'sun': 3808, 'strong': 3747, 'bond': 473, 'generation': 1680, 'ireland': 2121, 'laugh': 2242, 'loud': 2363, 'cry': 948, 'info': 2037, 'small': 3592, 'tables': 3856, 'amazon': 196, 'com': 724, 'second': 3441, 'mr': 2572, 'lawrence': 2248, 'struggling': 3757, 'traveling': 4048, 'unable': 4106, 'bodies': 470, 'born': 486, 'either': 1260, 'cruel': 947, 'groups': 1765, 'niche': 2639, 'admittedly': 119, 'ignorant': 1959, 'storyline': 3729, 'crucial': 946, 'moving': 2571, 'death': 993, 'near': 2614, 'becomes': 396, 'dying': 1216, 'strongly': 3749, 'boston': 488, 'detective': 1065, 'river': 3342, 'indeed': 2020, 'east': 1231, 'south': 3641, 'liked': 2307, 'base': 376, 'eleven': 1266, 'neighborhood': 2625, 'apple': 252, 'car': 572, 'forever': 1599, 'wife': 4290, 'memories': 2474, 'football': 1589, 'jimmy': 2157, 'marriage': 2421, 'daughters': 979, 'educated': 1247, 'murdered': 2578, 'park': 2803, 'covered': 908, 'blood': 463, 'assigned': 310, 'details': 1064, 'lasting': 2236, 'complicated': 777, 'literary': 2328, 'protagonists': 3057, 'depicting': 1035, 'types': 4099, 'roman': 3356, 'savage': 3407, 'brothers': 524, 'grasp': 1749, 'heroine': 1861, 'sitting': 3571, 'testing': 3920, 'software': 3606, 'box': 495, 'test': 3918, 'integration': 2072, 'professionals': 3030, 'greek': 1757, 'revised': 3318, 'bookstore': 480, 'errors': 1346, 'predecessor': 2968, 'updated': 4144, 'materials': 2439, 'synthesis': 3852, 'equivalent': 1342, 'jerry': 2152, 'march': 2414, 'advanced': 124, 'organic': 2741, 'sections': 3447, 'broad': 519, 'infinitely': 2032, 'encyclopedia': 1295, 'classics': 693, 'total': 4016, 'order': 2737, 'wonders': 4327, 'england': 1310, '350': 42, 'town': 4026, 'achievement': 91, 'press': 2992, 'practically': 2961, 'traditions': 4034, 'ethnic': 1363, 'eight': 1259, 'baked': 366, 'rice': 3324, 'west': 4268, 'indian': 2024, 'besides': 428, 'caribbean': 582, 'influences': 2035, 'native': 2609, 'italian': 2139, 'irish': 2122, 'german': 1692, 'french': 1629, 'represented': 3272, 'scope': 3432, 'voice': 4209, 'heard': 1838, 'wealth': 4248, 'lore': 2354, 'tips': 3991, 'cooking': 873, 'connection': 812, 'lectures': 2271, 'russell': 3382, 'significantly': 3552, 'features': 1503, 'mathematical': 2441, 'suspend': 3840, 'planet': 2891, 'improbable': 2000, 'observations': 2685, 'director': 1110, 'pure': 3090, 'dramatic': 1186, 'potential': 2953, 'drama': 1185, 'related': 3228, 'godfather': 1720, 'deception': 997, '20th': 32, 'policy': 2928, 'mrs': 2573, 'warming': 4231, 'past': 2820, 'binding': 445, 'grandparents': 1746, 'road': 3344, 'trip': 4069, 'sad': 3387, 'judge': 2176, 'walked': 4219, 'fifth': 1524, 'grade': 1738, 'older': 2710, 'turner': 4085, '30': 39, 'craft': 912, 'developing': 1072, 'rounded': 3368, 'timely': 3988, 'practical': 2960, 'perfectly': 2842, 'suited': 3803, 'learns': 2265, 'immediately': 1983, 'psychology': 3074, 'de': 985, 'protest': 3059, 'answering': 230, 'amusing': 207, 'importantly': 1994, 'arguments': 275, 'existence': 1408, 'animals': 221, 'anecdotes': 215, 'lack': 2219, 'biological': 449, 'basis': 382, 'excited': 1399, 'ordering': 2739, 'co': 708, 'released': 3238, 'ahead': 157, 'counter': 895, 'parts': 2812, 'slow': 3589, 'improved': 2002, 'entertained': 1324, 'wanting': 4226, 'ask': 300, 'turkey': 4082, 'explanations': 1429, 'mentions': 2483, 'spaces': 3645, 'islamic': 2130, 'relationship': 3233, 'proud': 3060, 'display': 1141, 'shakespeare': 3504, 'sight': 3548, 'aside': 299, 'plays': 2905, 'versions': 4179, 'legal': 2275, 'records': 3194, 'vague': 4164, 'secondary': 3442, 'accounts': 85, 'scholar': 3421, 'managed': 2400, 'sources': 3640, 'healthy': 1836, 'arrive': 282, 'greatest': 1754, 'affected': 136, 'king': 2206, 'trial': 4061, 'tried': 4066, 'insane': 2050, 'control': 859, 'estate': 1357, 'named': 2598, 'stop': 3721, 'pretentious': 2996, 'humble': 1935, 'wealthy': 4249, 'discussed': 1130, 'hadn': 1789, 'ten': 3906, 'chief': 656, 'referred': 3205, 'month': 2541, 'vital': 4206, 'sat': 3403, 'surrounded': 3832, 'virginia': 4198, 'federal': 1505, 'lincoln': 2312, 'game': 1664, 'heavily': 1843, 'danger': 969, 'facing': 1456, 'call': 552, 'northern': 2656, 'troops': 4073, 'easily': 1230, 'forces': 1595, 'city': 684, 'involve': 2113, 'sides': 3547, 'lose': 2355, 'chance': 628, 'victory': 4188, 'period': 2846, 'david': 981, 'bringing': 516, 'manner': 2409, 'achieve': 90, 'usually': 4161, 'knows': 2215, 'outcome': 2758, 'accomplished': 82, 'putting': 3098, 'keen': 2189, 'cut': 960, 'actions': 98, 'merit': 2486, 'researched': 3281, 'governments': 1735, 'private': 3014, 'fate': 1494, 'turned': 4084, 'purpose': 3092, 'christian': 672, 'negative': 2623, 'inspiring': 2061, 'lucky': 2375, 'opportunities': 2729, 'grateful': 1750, 'smart': 3594, 'clean': 694, 'discover': 1125, 'delight': 1017, 'week': 4257, 'incident': 2006, 'evil': 1380, 'depression': 1039, 'captain': 567, 'sent': 3475, 'saint': 3393, 'held': 1846, 'russian': 3384, 'senior': 3471, 'eager': 1220, 'visited': 4203, 'none': 2647, 'superior': 3813, 'commander': 738, 'root': 3362, 'justly': 2188, 'realize': 3166, 'willing': 4296, 'packed': 2781, 'below': 425, 'revenge': 3311, 'center': 615, 'save': 3408, 'destroyed': 1059, 'appearances': 248, 'trouble': 4074, 'dealt': 990, 'thoroughly': 3963, 'forgotten': 1605, 'finished': 1549, 'behaviour': 410, 'value': 4167, 'qualified': 3099, 'comment': 739, 'conclude': 792, 'quarter': 3103, 'expected': 1414, 'stand': 3682, 'extent': 1444, 'responses': 3294, 'claims': 688, 'light': 2303, 'objection': 2680, 'conclusion': 794, 'belong': 422, 'ok': 2707, 'category': 600, 'remaining': 3246, 'shared': 3510, 'fourth': 1620, 'objective': 2681, 'show': 3539, 'gross': 1762, 'fundamental': 1651, 'producing': 3024, 'rational': 3145, 'philosophers': 2860, 'ludicrous': 2376, 'somebody': 3616, 'belongs': 423, 'believes': 420, 'surely': 3825, 'biased': 436, 'comments': 742, 'implications': 1990, 'values': 4168, 'becoming': 397, 'subjective': 3772, 'teen': 3896, 'confidence': 803, 'taught': 3876, 'honest': 1904, 'convinced': 867, 'awesome': 354, 'runaway': 3378, 'demonstrates': 1029, 'prophecy': 3053, 'affects': 137, 'fundamentalist': 1652, 'reagan': 3161, 'hasn': 1819, 'survey': 3834, 'israel': 2135, 'beliefs': 415, 'hitler': 1889, 'soviet': 3643, 'conditions': 798, 'handed': 1797, 'religious': 3243, 'phenomenon': 2858, 'digital': 1101, 'photography': 2867, 'target': 3872, 'latest': 2239, 'lots': 2362, 'photographs': 2866, 'additional': 108, 'coverage': 907, 'dated': 976, 'space': 3644, 'fly': 1574, 'logic': 2341, 'primarily': 3003, 'york': 4371, 'section': 3446, 'smaller': 3593, 'applied': 255, 'size': 3575, 'cost': 889, 'commercial': 743, 'myth': 2592, 'legend': 2276, 'confused': 808, 'jewish': 2155, 'catholic': 602, 'religions': 3242, 'seeks': 3453, 'answers': 231, 'deciding': 1001, 'ted': 3894, 'animal': 220, 'cross': 943, 'turns': 4087, 'sadly': 3388, 'beloved': 424, 'grandmother': 1745, 'alone': 180, 'religion': 3241, 'steps': 3709, 'tasks': 3874, 'finish': 1548, 'hints': 1876, 'husband': 1942, 'couldn': 892, 'feature': 1502, 'solution': 3610, 'sorry': 3630, 'dull': 1210, 'predictable': 2970, 'worlds': 4341, 'dog': 1163, 'shot': 3536, 'construct': 830, 'spring': 3676, 'appreciated': 260, 'humans': 1934, 'please': 2907, 'summer': 3807, 'blue': 466, 'separated': 3479, 'wishes': 4310, 'dies': 1090, 'passed': 2817, 'neighbors': 2626, 'calls': 555, 'ran': 3131, 'arms': 276, 'talking': 3868, 'treated': 4052, 'talked': 3867, 'gotten': 1733, 'award': 348, 'friendship': 1636, 'lesson': 2284, 'relates': 3229, 'reminds': 3254, 'argue': 272, 'respect': 3290, 'meant': 2455, 'hit': 1888, 'compassion': 762, 'summary': 3805, 'touched': 4019, 'listened': 2321, 'somewhere': 3622, 'junk': 2184, 'alot': 182, 'wouldn': 4353, 'stupid': 3767, 'illegal': 1965, 'treating': 4053, 'underlying': 4114, 'structures': 3753, 'repeat': 3260, 'views': 4193, 'sex': 3499, 'creativity': 924, 'critical': 937, 'sympathy': 3849, 'witty': 4317, 'jargon': 2151, 'rocks': 3349, 'project': 3040, 'add': 105, 'outlined': 2762, 'majority': 2393, 'pc': 2833, 'players': 2903, 'portray': 2940, 'politics': 2933, 'portrayed': 2942, 'centuries': 619, 'glass': 1712, 'backwards': 363, 'enemies': 1304, 'god': 1719, 'middle': 2500, 'memory': 2475, 'riveting': 3343, 'considering': 824, 'isnt': 2133, 'friendly': 1634, 'organization': 2742, 'textbooks': 3925, 'require': 3276, 'quintessential': 3113, 'introducing': 2101, 'et': 1359, 'al': 162, 'discussions': 1134, 'wade': 4213, 'charge': 641, 'em': 1271, 'referenced': 3203, 'passage': 2815, 'reaction': 3152, 'mechanisms': 2461, 'assumed': 316, 'universities': 4132, 'biology': 450, 'unit': 4128, 'lacking': 2221, 'picking': 2876, 'joe': 2160, 'absolutely': 65, 'terrific': 3913, 'bed': 398, 'shadow': 3502, 'flight': 1566, 'price': 3001, 'newspaper': 2634, 'biographies': 447, 'extensive': 1443, 'keeper': 2191, 'francis': 1623, 'deserves': 1049, 'special': 3651, 'core': 878, 'pull': 3083, 'satisfied': 3404, 'listen': 2320, 'decent': 996, 'math': 2440, 'absorbed': 66, 'narrative': 2603, 'communist': 751, 'gained': 1661, 'buddhist': 533, 'consequences': 817, 'victims': 4186, 'holocaust': 1898, 'analyze': 210, 'international': 2089, 'storm': 3727, 'winds': 4301, 'totally': 4017, 'intriguing': 2098, 'romance': 3357, 'supporting': 3819, 'catherine': 601, 'handsome': 1803, 'desperate': 1055, 'hence': 1854, 'demanding': 1024, 'soft': 3605, 'caring': 584, 'terrible': 3912, 'typical': 4100, 'expert': 1422, 'fellow': 1512, 'beings': 413, 'ordered': 2738, 'workings': 4338, 'nuts': 2677, 'instruction': 2069, 'moments': 2538, 'anger': 217, 'feelings': 1508, 'hell': 1847, 'examines': 1391, 'programs': 3038, 'ancient': 212, 'belief': 414, 'genuine': 1689, 'teachings': 3885, 'contents': 843, 'saying': 3413, 'moment': 2537, 'chronological': 676, 'adds': 114, 'foundation': 1618, 'honor': 1907, 'writings': 4361, 'dealing': 988, 'awareness': 351, 'andrew': 214, 'thomas': 3961, 'influenced': 2034, 'understandable': 4116, 'luck': 2373, 'hours': 1923, 'industry': 2028, 'via': 4183, 'site': 3570, 'alien': 169, 'genre': 1687, 'apart': 241, 'tradition': 4032, 'force': 1593, 'races': 3120, 'dynamic': 1217, 'enemy': 1305, 'fighting': 1527, 'slaves': 3585, 'engaging': 1309, 'racism': 3122, 'aliens': 170, 'rings': 3337, 'borders': 483, 'resources': 3289, 'fresh': 1632, 'letting': 2290, 'drive': 1199, 'guess': 1772, 'qualities': 3100, 'rand': 3132, 'stewart': 3711, 'everyday': 1374, 'song': 3624, 'dumb': 1211, 'casual': 596, 'broadway': 520, 'songs': 3625, 'production': 3026, 'lewis': 2293, 'thrilled': 3974, 'stephen': 3708, 'funny': 1653, 'sequel': 3480, 'wow': 4354, 'cards': 574, 'charming': 645, 'contain': 837, 'model': 2533, 'sacred': 3385, 'except': 1395, 'table': 3855, 'angles': 218, 'impress': 1996, 'mathematics': 2442, 'elegant': 1263, 'served': 3486, 'service': 3488, 'heads': 1833, 'figures': 1530, 'walking': 4220, 'challenging': 626, 'map': 2413, 'pack': 2780, 'masterful': 2433, 'poignant': 2920, 'increasingly': 2017, 'brilliantly': 514, '35': 41, 'offer': 2697, 'establish': 1355, 'source': 3639, 'platform': 2898, 'kind': 2204, 'situations': 3573, 'girlfriend': 1704, 'robin': 3347, 'unless': 4135, 'mention': 2480, 'broke': 521, 'appearance': 247, 'irritating': 2127, 'choose': 665, 'brutally': 531, 'adore': 120, 'puts': 3097, 'doors': 1173, 'universe': 4131, 'enhance': 1312, 'studies': 3762, 'lively': 2333, '3rd': 43, 'reflect': 3208, 'photographer': 2865, 'thinks': 3957, 'characterizations': 639, 'prose': 3054, 'dialogue': 1081, 'capturing': 571, 'essence': 1352, 'tax': 3877, 'examination': 1389, 'eat': 1234, 'searching': 3439, 'rationale': 3146, 'observation': 2684, 'round': 3367, 'traditional': 4033, 'foods': 1587, 'moon': 2544, 'corn': 879, 'led': 2272, 'association': 314, 'avoid': 346, 'milk': 2506, 'products': 3027, 'season': 3440, 'exotic': 1411, 'cultures': 952, 'arts': 294, 'reasons': 3174, 'herself': 1862, 'diet': 1091, 'vegetarian': 4176, 'everybody': 1373, 'consumption': 835, 'produced': 3023, 'nobody': 2645, 'relation': 3231, 'responsibilities': 3295, 'deeply': 1008, 'local': 2338, 'oil': 2706, 'wondered': 4323, 'front': 1639, 'figured': 1529, 'worthless': 4349, 'attempts': 328, 'argues': 273, 'advocates': 133, 'recognizing': 3185, 'sugar': 3795, 'pre': 2967, 'physical': 2870, 'refers': 3207, 'recording': 3193, 'countless': 896, 'print': 3010, 'audio': 336, 'speaker': 3648, 'command': 737, 'historic': 1883, 'contemporary': 841, 'calling': 554, 'consistently': 825, 'ties': 3984, 'christianity': 673, 'trend': 4059, 'responsibility': 3296, 'explicit': 1430, 'sacrifice': 3386, 'speaks': 3650, 'centered': 616, 'listening': 2323, 'inspire': 2059, 'hour': 1922, 'minutes': 2521, 'stopped': 3722, 'ended': 1298, 'official': 2703, 'trust': 4078, 'boundaries': 494, 'undoubtedly': 4120, 'breaks': 506, 'conversations': 864, 'medicine': 2464, 'latter': 2241, 'fashion': 1489, 'address': 110, 'outside': 2764, 'separate': 3478, 'shares': 3511, 'stock': 3716, 'venture': 4177, 'cash': 594, 'suspect': 3839, 'stated': 3694, 'ambiguous': 197, 'necessary': 2617, 'isolated': 2134, 'lazy': 2254, 'smooth': 3597, 'agency': 147, 'owner': 2776, 'bonds': 474, 'explored': 1433, 'heavy': 1844, 'sum': 3804, 'returns': 3304, 'task': 3873, 'citizens': 683, 'roles': 3353, 'necessity': 2618, 'senses': 3473, 'brilliant': 513, 'sam': 3398, 'goals': 1718, 'risk': 3340, 'suffering': 3793, '150': 8, 'awhile': 356, 'glad': 1710, 'touches': 4020, 'feet': 1510, '2004': 29, 'guard': 1771, 'morals': 2548, 'sir': 3567, 'watch': 4240, 'pays': 2832, 'visit': 4202, 'dragon': 1184, 'ancestors': 211, 'carry': 588, 'paper': 2794, 'bread': 503, 'corpses': 883, 'trace': 4028, 'notion': 2666, 'ruled': 3374, 'refused': 3214, 'mad': 2382, 'arthur': 287, 'helps': 1852, 'wear': 4252, 'fantasies': 1481, 'sounds': 3637, 'confusing': 809, 'gem': 1674, 'hemingway': 1853, 'towards': 4025, 'progress': 3039, 'souls': 3634, 'draft': 1183, 'expression': 1441, 'critic': 936, 'accused': 89, 'looks': 2351, 'giving': 1709, 'professional': 3029, 'suspense': 3841, 'curiosity': 955, 'heck': 1845, 'survive': 3836, 'hilarious': 1872, 'absurd': 68, 'slightly': 3587, 'hawking': 1828, 'masterpiece': 2435, 'requires': 3278, 'patience': 2825, 'substantial': 3776, 'digest': 1100, 'accept': 74, 'challenge': 624, 'awe': 353, 'nora': 2651, 'roberts': 3346, 'dig': 1099, 'ends': 1302, 'fall': 1471, 'guys': 1784, 'sick': 3544, 'realized': 3167, 'considerable': 821, 'advise': 131, 'financial': 1541, 'covering': 909, 'weekend': 4258, 'hoping': 1914, 'shoot': 3529, 'sales': 3396, 'hiring': 1879, 'hired': 1878, 'horrible': 1915, 'imaginable': 1975, 'obviously': 2688, 'superficial': 3812, 'awful': 355, 'convince': 866, 'jane': 2148, 'williams': 4295, 'irony': 2125, 'shoes': 3528, 'check': 647, 'surprise': 3828, 'ought': 2754, 'predict': 2969, 'ride': 3328, 'rises': 3339, 'comic': 734, 'hold': 1892, 'habit': 1785, 'pointed': 2922, 'rich': 3325, 'noting': 2665, 'african': 140, 'acting': 96, 'families': 1476, 'sexuality': 3501, 'recomend': 3186, 'adventure': 127, 'mystery': 2591, 'guessing': 1773, 'letter': 2288, 'amazed': 194, 'hear': 1837, 'applying': 258, 'experts': 1423, 'priceless': 3002, 'resource': 3288, 'fields': 1523, 'overwhelming': 2773, 'error': 1345, 'flawed': 1562, 'likeable': 2306, 'convey': 865, 'battle': 384, 'statements': 3696, 'citizen': 682, 'warfare': 4229, 'tactics': 3857, 'account': 84, 'revolutionary': 3320, 'stronger': 3748, 'employed': 1285, 'increased': 2016, 'battles': 385, 'pointless': 2924, 'confusion': 810, 'strategic': 3734, 'defense': 1009, 'committed': 746, 'chose': 668, 'campaign': 558, 'losses': 2359, 'positions': 2946, 'regard': 3215, '000': 0, 'sustained': 3844, 'admit': 117, 'fell': 1511, 'memoirs': 2472, 'runs': 3380, 'stands': 3686, 'dozens': 1181, 'criticisms': 939, 'condition': 797, 'hill': 1873, 'closely': 704, 'royal': 3370, 'futile': 1656, 'gratuitous': 1751, 'excessive': 1398, 'fault': 1496, 'infancy': 2030, 'rightly': 3333, 'origins': 2749, 'loaded': 2337, 'handy': 1804, 'shift': 3521, 'spends': 3662, 'pleasant': 2906, 'random': 3133, 'rambling': 3130, 'winded': 4299, 'straight': 3730, 'lifetime': 2301, 'peace': 2834, 'thats': 3932, 'birds': 452, 'creative': 923, 'buying': 547, 'lay': 2251, 'ethics': 1362, 'wars': 4234, 'somewhat': 3621, 'efforts': 1257, 'results': 3300, 'physics': 2872, 'teens': 3899, '1990': 19, 'moves': 2568, 'papers': 2796, 'suffers': 3794, 'locate': 2340, 'encountered': 1290, 'cite': 680, 'marcus': 2415, 'carter': 590, 'fully': 1647, 'john': 2162, 'seven': 3496, 'failing': 1464, 'reputation': 3275, 'commentary': 740, 'revealed': 3306, 'remarkably': 3249, 'eloquent': 1268, 'purchasing': 3089, 'contrary': 853, 'recover': 3195, 'credit': 930, 'presumably': 2994, 'stress': 3742, 'challenges': 625, 'biases': 437, 'esteem': 1358, 'embarrassing': 1273, 'damage': 966, 'members': 2471, 'colleagues': 715, 'recall': 3175, 'respond': 3292, 'mine': 2515, 'successes': 3782, 'whatever': 4271, 'examine': 1390, 'attitudes': 332, 'occur': 2691, 'enable': 1288, 'effectively': 1253, 'singer': 3565, '200': 26, 'honestly': 1905, 'forget': 1600, 'mom': 2536, 'department': 1033, 'breakthrough': 507, 'disease': 1135, 'skeptical': 3577, 'weeks': 4259, 'closed': 703, 'profound': 3035, 'copies': 876, 'presenting': 2987, 'decides': 1000, 'drink': 1197, 'kid': 2197, 'received': 3178, 'annual': 226, 'bound': 493, 'weren': 4267, 'dozen': 1180, 'excitement': 1400, 'opened': 2721, 'anne': 224, 'shopping': 3532, 'biggest': 442, 'carried': 587, 'hall': 1793, '90': 53, 'conduct': 799, 'exposure': 1438, 'narrow': 2605, 'plant': 2895, 'plots': 2913, 'lie': 2297, 'sample': 3400, 'lion': 2317, 'boat': 468, 'leaving': 2269, 'room': 3361, 'gradually': 1739, 'enjoyment': 1317, 'southern': 3642, 'watching': 4241, 'grandfather': 1744, 'hunting': 1941, 'illustrates': 1970, 'coast': 710, 'seriously': 3484, 'movement': 2567, 'recent': 3179, 'resist': 3284, 'bear': 388, 'magazine': 2384, 'laughed': 2244, 'vacation': 4163, 'laughing': 2245, 'worried': 4343, 'hundreds': 1939, 'died': 1089, 'deeper': 1007, 'foreign': 1596, 'hundred': 1938, 'agrees': 156, 'boring': 485, 'clarity': 689, 'european': 1365, 'balanced': 368, 'thousands': 3970, 'carol': 586, 'scholarly': 3422, 'entity': 1332, 'complexities': 776, 'principals': 3007, 'gifted': 1701, 'hunter': 1940, '60s': 48, 'urban': 4149, 'inspired': 2060, 'footnotes': 1591, 'generations': 1681, 'disappear': 1115, 'die': 1088, 'ready': 3160, 'marriages': 2422, 'koontz': 2216, 'connected': 811, 'renaissance': 3258, 'survival': 3835, 'notice': 2663, 'passion': 2819, 'resurrection': 3301, 'bill': 443, 'grammar': 1741, 'remind': 3252, 'rules': 3376, 'unnecessary': 4139, 'introduced': 2100, 'staying': 3703, 'inspirational': 2058, 'compelled': 763, 'oh': 2705, 'flying': 1575, 'endearing': 1297, 'ashamed': 297, 'arrogant': 285, 'rejection': 3226, 'clever': 698, 'host': 1920, 'plausible': 2899, 'weapons': 4251, 'spread': 3675, 'australia': 337, 'lands': 2228, 'followed': 1582, 'professor': 3031, 'split': 3669, 'scattered': 3417, 'sudden': 3788, 'clues': 707, 'defined': 1012, 'celebration': 612, 'turning': 4086, 'fabulous': 1451, 'reveals': 3308, 'painting': 2789, 'paintings': 2790, 'send': 3468, 'paints': 2791, 'gorgeous': 1731, 'subjects': 3773, '25': 37, 'cutting': 962, 'conflict': 805, 'hatred': 1822, 'bruce': 529, 'romantic': 3358, 'affair': 134, '50': 46, 'severe': 3498, 'constant': 828, 'worst': 4347, 'celebrated': 611, 'duck': 1208, 'lovely': 2367, 'empirical': 1284, 'laying': 2252, 'train': 4038, 'categories': 599, 'tremendous': 4058, 'outcomes': 2759, 'resistance': 3285, 'soldiers': 3608, 'originally': 2748, 'quotes': 3118, 'laws': 2249, 'rates': 3142, 'issue': 2136, 'argument': 274, 'cop': 875, 'nazi': 2613, 'terror': 3915, 'contrast': 854, 'imperial': 1987, 'morally': 2547, 'essay': 1350, 'bomb': 472, 'distinction': 1145, 'iraq': 2120, 'conservatives': 819, 'reflects': 3211, 'questionable': 3107, 'michael': 2498, 'exists': 1410, 'ongoing': 2716, 'fails': 1465, '2005': 30, 'tidbits': 3982, 'games': 1665, 'colorful': 722, 'grown': 1768, 'editing': 1241, 'twice': 4092, 'catch': 598, 'okay': 2708, 'dictionary': 1085, 'outdated': 2760, 'browse': 527, 'pay': 2830, 'maturity': 2445, 'agent': 149, 'satisfying': 3406, 'prize': 3015, 'trilogy': 4068, 'missed': 2524, 'six': 3574, 'journalism': 2170, 'services': 3489, 'teller': 3902, '1970': 15, 'growth': 1769, 'plastic': 2897, 'card': 573, '1950': 12, 'mutual': 2585, 'managers': 2403, '1980': 17, 'strategies': 3735, 'banks': 371, 'companies': 754, 'marshall': 2425, 'investing': 2109, 'record': 3192, 'naked': 2596, 'charles': 643, 'bull': 538, 'product': 3025, 'consultant': 833, 'roger': 3350, 'jr': 2174, 'rate': 3141, 'mildly': 2503, 'encourage': 1292, 'france': 1622, 'poetic': 2918, 'gonna': 1728, 'yeah': 4366, 'pretend': 2995, 'admire': 116, 'dates': 977, 'spend': 3660, 'bridge': 509, 'gap': 1666, 'oneself': 2715, 'infinite': 2031, 'intuition': 2103, 'energy': 1306, 'astounding': 319, 'james': 2147, 'polish': 2929, 'jew': 2154, 'met': 2489, 'raise': 3127, 'circumstances': 679, 'regular': 3222, 'abusive': 72, 'community': 753, 'communities': 752, '1960s': 14, 'extraordinary': 1446, 'sheer': 3516, 'honesty': 1906, 'enlightening': 1319, 'trees': 4057, 'emotion': 1276, 'lies': 2298, 'crowd': 944, 'bother': 490, '70': 49, 'row': 3369, 'tour': 4023, 'ethical': 1361, 'jump': 2181, 'enormous': 1320, 'combines': 728, 'necessarily': 2616, 'depiction': 1036, 'informed': 2041, 'mass': 2429, 'advance': 123, 'roots': 3364, 'bizarre': 457, 'unknown': 4134, 'stomach': 3718, 'attacks': 324, 'guns': 1781, 'manufacturing': 2411, 'safety': 3390, 'jail': 2146, 'nor': 2650, 'established': 1356, 'approaches': 263, 'imaginative': 1978, 'charged': 642, 'divorce': 1155, 'confident': 804, 'event': 1367, 'exist': 1407, 'frequent': 1630, 'mediocre': 2465, 'garden': 1669, 'breath': 508, 'metaphors': 2491, 'ignore': 1960, 'powerful': 2958, 'draw': 1188, 'drawing': 1189, 'relatives': 3236, 'frustrating': 1642, 'asking': 302, 'sound': 3635, 'proven': 3063, 'historian': 1881, 'pivotal': 2883, 'pulitzer': 3082, '2002': 28, 'cast': 595, 'newton': 2635, 'winner': 4303, 'creation': 922, 'successfully': 3784, 'encouraging': 1294, 'wilson': 4297, 'syndrome': 3850, 'thankfully': 3929, 'meaningless': 2453, '1999': 23, 'descriptive': 1047, 'corporate': 881, 'shifts': 3522, 'everywhere': 1377, 'applications': 254, 'email': 1272, 'paperback': 2795, 'synopsis': 3851, 'technical': 3889, 'discipline': 1122, 'meets': 2469, 'partners': 2811, 'party': 2813, 'comfortable': 733, 'paradigm': 2797, 'ship': 3524, 'fix': 1559, 'mentality': 2478, 'focused': 1577, 'promises': 3045, 'invest': 2106, 'dangers': 971, 'decline': 1004, 'seller': 3465, 'apparent': 242, 'scholars': 3423, 'italy': 2140, 'effects': 1254, 'landscape': 2229, 'origin': 2746, 'ocean': 2692, 'mountains': 2563, 'weather': 4253, 'nevertheless': 2631, 'regarded': 3216, 'jones': 2167, 'boomer': 481, 'lighthouse': 2304, 'twenty': 4091, 'sooner': 3627, 'abandonment': 56, 'abuse': 71, 'episodes': 1338, 'outline': 2761, 'subsequent': 3774, 'breaking': 505, 'talent': 3863, 'evident': 1379, 'ironic': 2124, 'agreed': 155, 'generous': 1683, 'initial': 2043, 'opposite': 2732, 'folks': 1580, 'dickens': 1084, 'comparisons': 761, 'grand': 1743, 'vegetable': 4175, 'gold': 1724, 'tape': 3871, 'flip': 1567, 'promise': 3043, 'japanese': 2150, 'comprehend': 779, 'helping': 1851, 'publisher': 3079, 'analysis': 209, 'convincing': 868, 'advances': 125, 'seeking': 3452, 'economy': 1238, 'proving': 3069, '19th': 24, '60': 47, 'sharing': 3512, 'disgusting': 1137, 'endure': 1303, 'loving': 2371, 'davis': 982, 'factor': 1458, 'golden': 1725, 'classes': 691, 'rigorous': 3335, 'boyfriend': 497, 'miller': 2508, 'excuses': 1403, 'buck': 532, 'excuse': 1402, 'widely': 4289, 'settings': 3495, 'fans': 1480, 'encounter': 1289, 'grow': 1766, 'cult': 949, 'developments': 1074, 'pagan': 2782, 'tiny': 3990, 'pinker': 2882, 'nobel': 2644, 'assumes': 317, 'forgot': 1604, 'grab': 1736, 'dry': 1207, 'door': 1172, 'parody': 2804, 'barry': 375, 'sticks': 3713, 'jokes': 2166, 'selfish': 3463, 'alcoholic': 166, 'drove': 1205, 'hospital': 1919, 'stayed': 3702, 'farm': 1485, 'jesus': 2153, 'red': 3197, 'paid': 2785, 'gun': 1780, 'naturally': 2611, 'shooting': 3530, 'striking': 3744, 'agenda': 148, 'pro': 3016, 'dangerous': 970, 'circle': 678, 'cool': 874, 'sorts': 3632, 'depicts': 1037, 'amateur': 193, 'premise': 2978, 'psychic': 3072, 'haunted': 1823, 'discovers': 1127, 'treasure': 4050, 'spirit': 3665, 'mysteries': 2589, 'usual': 4160, 'ups': 4147, 'skin': 3580, 'veteran': 4182, 'workers': 4336, 'played': 2901, '800': 52, 'dove': 1177, 'frightening': 1637, 'dramatically': 1187, 'ring': 3336, 'steal': 3705, 'fortune': 1613, 'paying': 2831, 'millions': 2510, 'fraud': 1626, 'barrier': 374, 'masses': 2430, 'vivid': 4207, 'jumped': 2182, 'reduced': 3199, 'checking': 649, 'index': 2022, 'cartoons': 591, 'gaps': 1667, 'truck': 4075, 'farmer': 1486, 'hated': 1821, 'la': 2217, 'independent': 2021, 'strikes': 3743, 'attempted': 326, 'combined': 727, 'elaborate': 1261, 'justify': 2187, 'clearer': 696, 'motives': 2561, 'hidden': 1865, 'facets': 1455, 'portrayal': 2941, 'kinds': 2205, 'consists': 826, 'largely': 2232, 'continuing': 849, 'pair': 2792, 'lovers': 2369, 'responsible': 3297, 'consequence': 816, 'sympathetic': 3848, 'inappropriate': 2005, 'simplistic': 3562, 'divided': 1153, 'nowhere': 2672, 'ideal': 1946, 'mix': 2530, 'bird': 451, 'trick': 4064, 'choosing': 667, 'reminiscent': 3255, 'imaginary': 1976, 'eyes': 1450, 'ears': 1225, 'supplies': 3816, 'creator': 925, 'potentially': 2954, 'crichton': 931, 'flesh': 1564, 'connections': 813, 'supported': 3818, 'blown': 465, 'larger': 2233, 'hugo': 1930, 'martin': 2426, 'implies': 1991, 'installment': 2062, 'sue': 3790, 'tony': 4006, 'angry': 219, 'wives': 4318, 'secret': 3444, 'operating': 2726, 'offensive': 2696, 'concern': 787, 'bookshelf': 479, 'fills': 1535, 'sold': 3607, 'aid': 158, 'slavery': 3584, 'captures': 570, 'flaws': 1563, 'complement': 771, 'firm': 1553, 'fought': 1616, 'thick': 3951, 'killer': 2202, 'track': 4029, 'proves': 3064, 'invaluable': 2104, 'island': 2131, 'overlooked': 2769, 'factual': 1461, 'surface': 3826, 'righteous': 3332, 'earthly': 1227, 'loneliness': 2344, 'horror': 1917, 'eventual': 1369, 'ritual': 3341, 'metaphysical': 2492, 'phone': 2863, 'understands': 4118, 'emotional': 1277, 'woods': 4328, 'headache': 1831, 'currently': 958, 'supposedly': 3822, 'winter': 4305, 'invisible': 2111, 'reflection': 3210, 'tedious': 3895, 'determine': 1067, 'snow': 3599, 'chain': 623, 'homeless': 1901, 'teenager': 3898, 'dinner': 1104, 'agents': 150, 'reveal': 3305, 'narration': 2602, 'expressed': 1440, 'talks': 3869, 'overly': 2770, 'reducing': 3200, 'cup': 953, 'coffee': 712, 'forgive': 1602, 'hopefully': 1912, 'warned': 4232, 'continued': 847, 'christ': 671, 'adventures': 128, 'worry': 4344, 'sale': 3395, 'diagrams': 1079, 'models': 2534, 'interior': 2086, 'woolf': 4329, 'saga': 3391, 'musician': 2582, 'rap': 3136, 'sensitive': 3474, 'suggested': 3797, 'basically': 380, 'roll': 3354, 'neighbor': 2624, 'depressing': 1038, 'drop': 1203, 'chick': 654, 'lit': 2326, 'glaring': 1711, 'outlook': 2763, 'remain': 3245, 'stone': 3719, 'built': 537, 'sky': 3583, 'heaven': 1842, 'hearts': 1841, 'nicely': 2638, 'paris': 2802, 'weight': 4260, 'regularly': 3223, 'winning': 4304, 'faced': 1453, 'abroad': 63, 'laughs': 2246, 'pointing': 2923, 'mistakes': 2529, 'chris': 670, 'assumptions': 318, 'string': 3745, 'theoretical': 3942, 'reproduce': 3274, 'predictions': 2972, 'quantum': 3102, 'hopes': 1913, 'assertions': 308, 'consideration': 822, 'chooses': 666, 'gut': 1782, 'hanging': 1805, 'norm': 2652, 'societies': 3602, 'male': 2397, 'mill': 2507, 'prominent': 3042, 'ignored': 1961, 'motivations': 2559, 'practices': 2963, 'abandon': 54, 'legitimate': 2278, 'immensely': 1984, 'hate': 1820, 'revelation': 3309, 'visiting': 4204, 'satisfy': 3405, 'worthy': 4351, 'reach': 3150, 'anna': 223, 'biblical': 439, 'coherent': 713, 'choices': 664, 'promised': 3044, 'goal': 1717, 'inevitable': 2029, 'fruit': 1640, 'handful': 1798, 'exception': 1396, 'numbers': 2675, 'healing': 1834, 'rogers': 3351, 'substance': 3775, 'editors': 1246, 'stuck': 3758, '1992': 21, 'employees': 1286, 'higher': 1869, 'competition': 766, 'innovation': 2048, 'failed': 1463, 'innovative': 2049, 'professors': 3032, 'worthwhile': 4350, 'occasionally': 2690, 'surprising': 3830, 'dysfunctional': 1218, 'behaviors': 409, 'formal': 1607, 'destructive': 1061, 'dimension': 1102, 'albeit': 165, 'endlessly': 1301, 'answered': 229, 'claim': 686, 'data': 974, 'gains': 1663, 'preface': 2973, 'proof': 3048, 'containing': 839, 'massive': 2431, 'factors': 1459, 'identities': 1953, 'listing': 2324, 'expects': 1416, 'multiple': 2576, 'super': 3810, 'plain': 2888, 'falling': 1472, 'manual': 2410, 'file': 1531, 'files': 1532, 'luke': 2377, 'rule': 3373, 'noticed': 2664, 'avid': 345, 'distinguished': 1147, 'script': 3435, 'opens': 2724, 'fail': 1462, 'exciting': 1401, 'holes': 1895, 'handle': 1799, 'crazy': 916, 'remarks': 3250, 'treat': 4051, 'wave': 4243, 'collecting': 716, 'enthusiasm': 1327, 'anymore': 236, 'destiny': 1057, 'release': 3237, 'hire': 1877, 'thriller': 3975, 'arrived': 283, 'achieving': 92, 'competitive': 767, 'appealing': 245, 'strengths': 3741, 'metaphor': 2490, 'win': 4298, 'struck': 3750, 'staff': 3678, 'pushing': 3095, 'zero': 4379, 'quest': 3105, 'fill': 1533, 'samples': 3401, 'hair': 1790, 'prostitute': 3055, 'absurdity': 69, 'chaos': 633, 'welcome': 4262, 'locally': 2339, 'posed': 2944, 'capitalism': 566, 'acceptable': 75, 'speaking': 3649, 'feminist': 1516, 'wondering': 4326, 'ideology': 1955, 'weak': 4247, 'overwhelmed': 2772, 'racist': 3123, 'exceptional': 1397, 'worker': 4335, 'huh': 1931, 'shocked': 3526, '2006': 31, 'luckily': 2374, 'aged': 146, 'returned': 3303, 'article': 288, 'translations': 4045, 'reviewing': 3316, 'susan': 3838, 'devil': 1077, 'unclear': 4110, 'enter': 1322, 'instantly': 2065, 'ice': 1944, 'falls': 1473, 'neither': 2627, 'suddenly': 3789, 'lady': 2224, 'stylistic': 3769, 'ink': 2045, 'normally': 2654, 'grace': 1737, 'brains': 500, 'lonely': 2345, 'shame': 3507, 'gender': 1676, 'intellect': 2073, 'wonderfully': 4325, 'prayer': 2966, 'delve': 1022, 'pass': 2814, 'exam': 1388, 'morning': 2551, 'prepare': 2980, 'cds': 610, 'access': 77, 'adults': 122, 'myriad': 2587, 'possibilities': 2948, 'previously': 3000, 'territory': 3914, 'standing': 3685, 'specifics': 3655, 'divine': 1154, 'genuinely': 1690, 'accurately': 88, 'sized': 3576, 'anywhere': 240, 'supernatural': 3814, '1990s': 20, 'immortal': 1985, 'graphic': 1748, 'joseph': 2168, 'dogs': 1165, 'unlikely': 4137, 'gene': 1677, 'shop': 3531, 'fears': 1501, 'tall': 3870, 'thesis': 3949, 'airport': 161, 'stating': 3698, 'dust': 1214, 'handled': 1800, 'correctly': 885, 'believing': 421, 'bigger': 441, 'bathroom': 383, 'salt': 3397, 'babies': 358, 'cell': 613, 'plane': 2890, 'carl': 585, 'hiaasen': 1864, 'pseudo': 3071, 'alternate': 187, 'judged': 2177, 'holding': 1893, 'emperor': 1280, 'faces': 1454, 'highest': 1870, 'rome': 3359, 'gods': 1721, 'charm': 644, 'ghosts': 1698, 'mission': 2527, 'ruin': 3371, 'ear': 1222, 'eagerly': 1221, 'structured': 3752, 'fleshed': 1565, 'sports': 3673, 'sociology': 3604, 'finger': 1547, 'statement': 3695, 'pursue': 3094, 'respects': 3291, 'succeeds': 3780, 'fulfilling': 1645, 'assessment': 309, 'tying': 4097, 'discouraged': 1123, 'enjoying': 1316, 'forest': 1598, 'lets': 2287, 'hook': 1909, 'forgiveness': 1603, 'improvement': 2003, 'shed': 3515, 'pathetic': 2824, 'robert': 3345, 'whoever': 4282, 'count': 894, 'claimed': 687, 'obsessed': 2686, 'collins': 720, 'composed': 778, 'india': 2023, 'lacks': 2222, 'semi': 3467, 'disapointed': 1114, 'tree': 4056, '80': 51, 'sophisticated': 3628, 'inclusion': 2012, 'intermediate': 2087, 'intrigued': 2097, 'completed': 773, 'theater': 3934, 'damn': 967, 'destruction': 1060, 'organizing': 2744, 'seek': 3451, 'abandoned': 55, 'iron': 2123, 'referring': 3206, 'insist': 2056, 'subtitle': 3777, 'carson': 589, 'extreme': 1447, 'dreadful': 1193, 'summed': 3806, 'express': 1439, 'owned': 2775, 'angels': 216, 'pop': 2936, 'cure': 954, 'engaged': 1308, 'footnote': 1590, 'disorder': 1140, 'dimensional': 1103, 'illness': 1966, 'houses': 1925, 'scholarship': 3424, 'parties': 2808, 'joel': 2161, 'rave': 3147, 'displays': 1142, 'upper': 4146, 'vice': 4184, 'virtue': 4200, 'pie': 2879, 'allowing': 177, 'hey': 1863, 'cynical': 963, 'continues': 848, 'economics': 1237, 'rendered': 3259, 'shelves': 3520, 'floor': 1569, 'plants': 2896, 'amp': 206, 'latin': 2240, 'addresses': 112, 'somehow': 3617, 'gay': 1673, 'shock': 3525, 'statistics': 3699, 'avoiding': 347, 'handling': 1801, 'trends': 4060, '24': 36, 'wished': 4309, 'minded': 2512, 'passing': 2818, 'continuity': 850, 'amongst': 203, 'evidence': 1378, 'repeatedly': 3262, 'frequently': 1631, 'cosmic': 888, 'confess': 802, 'expectations': 1413, 'blank': 460, 'edward': 1250, 'poet': 2917, 'insult': 2071, 'windows': 4300, 'internal': 2088, 'affect': 135, 'denial': 1030, 'appendix': 251, 'chinese': 661, 'courses': 903, 'guarantee': 1770, 'hot': 1921, 'margaret': 2416, 'fits': 1557, 'misleading': 2522, 'meat': 2458, 'shell': 3518, 'cheese': 650, 'divide': 1152, 'contribution': 856, 'selection': 3461, 'thin': 3952, 'cream': 917, 'expensive': 1417, 'occasional': 2689, 'kitchen': 2208, 'purposes': 3093, 'fat': 1493, 'virtually': 4199, 'focusing': 1579, 'code': 711, 'knock': 2210, 'comparing': 759, 'encounters': 1291, 'surrounding': 3833, 'plans': 2894, 'concentrate': 783, 'stinks': 3715, 'brand': 501, 'reread': 3279, 'viewed': 4191, 'patterns': 2828, 'safe': 3389, 'printed': 3011, 'timeless': 3987, 'histories': 1886, 'unfortunate': 4122, 'downright': 1179, 'perceived': 2839, 'realm': 3170, 'pressure': 2993, '75': 50, 'laid': 2225, 'spirituality': 3667, 'mainstream': 2390, 'nixon': 2642, 'artificial': 290, 'hitting': 1891, 'detectives': 1066, 'lift': 2302, 'shouldn': 3538, 'likewise': 2310, 'ann': 222, 'champion': 627, 'tv': 4088, 'researching': 3283, 'air': 160, 'smith': 3596, 'allen': 174, 'quinn': 3112, 'attract': 333, 'naive': 2595, 'sell': 3464, 'generic': 1682, 'minister': 2516, 'wedding': 4256, 'weird': 4261, 'cousin': 905, 'perception': 2840, 'methodology': 2494, 'plethora': 2911, 'usable': 4151, 'contained': 838, 'planned': 2892, 'california': 551, 'conference': 801, 'repetition': 3264, 'similarities': 3557, 'wading': 4214, 'nuggets': 2673, 'match': 2437, 'judgement': 2178, 'corner': 880, 'intended': 2078, 'pocket': 2915, 'trivia': 4071, 'publish': 3077, 'gathered': 1671, 'village': 4194, 'identical': 1948, 'gore': 1730, 'capture': 568, 'tiresome': 3993, 'clinton': 701, 'painful': 2787, 'equal': 1339, 'reform': 3212, 'bin': 444, 'laden': 2223, 'welfare': 4263, 'crowning': 945, 'passages': 2816, 'chemical': 651, 'devices': 1076, 'reasonable': 3172, 'ridiculous': 3329, 'objects': 2682, 'physically': 2871, 'length': 2280, 'desired': 1053, 'episode': 1337, 'clue': 706, 'briefly': 511, 'duty': 1215, '23': 35, 'represent': 3270, 'unconvincing': 4111, 'rage': 3126, 'bank': 370, 'sunday': 3809, 'alright': 185, '1995': 22, 'harm': 1814, 'alas': 164, 'transition': 4043, 'resolved': 3287, 'stream': 3737, 'thrown': 3980, 'peoples': 2837, 'proudly': 3061, 'glory': 1714, 'mountain': 2562, 'presidential': 2990, 'campaigns': 559, 'election': 1262, 'indians': 2025, 'acknowledged': 93, 'admits': 118, 'ron': 3360, 'delivered': 1020, 'disbelief': 1121, 'spoke': 3671, 'asia': 298, 'determining': 1069, 'dominant': 1168, 'dense': 1032, 'steel': 3706, 'typically': 4101, 'represents': 3273, 'serving': 3490, 'fifty': 1525, 'tragically': 4037, 'presidents': 2991, 'join': 2164, 'thrillers': 3976, 'cozy': 911, 'suspicious': 3843, 'shortcomings': 3534, 'doubts': 1176, 'controlling': 860, 'brave': 502, 'brutal': 530, 'feminism': 1515, 'notions': 2667, 'guilty': 1779, 'crashing': 915, 'marry': 2424, 'object': 2679, 'device': 1075, 'inclined': 2007, 'hide': 1866, 'ruler': 3375, 'joke': 2165, 'scenario': 3418, 'futures': 1658, 'trading': 4031, 'finance': 1540, 'opera': 2725, 'raised': 3128, 'jobs': 2159, 'cute': 961, 'cookies': 872, 'showed': 3540, 'twist': 4093, 'driven': 1201, 'commented': 741, 'victorian': 4187, 'holy': 1899, 'twisted': 4094, 'characterization': 638, 'espionage': 1349, 'survived': 3837, 'dear': 992, 'emergence': 1275, 'foremost': 1597, 'openly': 2723, 'gentle': 1688, 'pains': 2788, 'cake': 549, 'cookie': 871, 'harsh': 1816, 'grammatical': 1742, 'criticize': 940, 'motion': 2555, 'recommends': 3191, 'shelter': 3519, 'critique': 942, 'butter': 545, 'sided': 3546, 'questioning': 3108, 'reports': 3269, 'afterward': 142, 'recognizes': 3184, 'member': 2470, 'border': 482, 'stopping': 3723, 'enjoys': 1318, 'epic': 1336, 'worldview': 4342, 'involvement': 2115, 'gary': 1670, 'dislike': 1139, 'stance': 3681, 'contradicts': 852, 'arrival': 281, 'eastern': 1232, 'mindset': 2514, 'miles': 2504, 'ambitious': 198, 'destroy': 1058, 'mexico': 2497, 'comics': 735, 'stores': 3725, '2nd': 38, 'barely': 373, 'vanity': 4169, 'corporations': 882, '2000': 27, 'perform': 2843, 'institution': 2068, 'pregnant': 2976, 'genetic': 1684, 'handbook': 1796, 'alan': 163, 'distant': 1144, 'revelations': 3310, 'computer': 781, 'june': 2183, 'motive': 2560, 'succeed': 3779, 'narrator': 2604, 'bitter': 456, 'blind': 462, 'consuming': 834, 'judgment': 2179, 'iran': 2119, '300': 40, 'solved': 3613, 'radio': 3125, 'signs': 3553, 'listeners': 2322, 'kingdom': 2207, 'blueprint': 467, 'dissapointed': 1143, 'teams': 3887, 'definition': 1014, 'addressed': 111, 'reign': 3224, 'club': 705, 'journalist': 2171, 'liberals': 2295, 'unbelievably': 4109, 'properly': 3051, 'harry': 1815, 'tension': 3908, 'seconds': 3443, 'officer': 2702, 'giant': 1699, 'jumble': 2180, 'theology': 3941, 'walks': 4221, 'cared': 576, 'artistic': 292, 'stumbled': 3766, 'sign': 3549, 'mechanical': 2459, 'irrelevant': 2126, 'confuse': 807, 'formula': 1611, 'empire': 1283, 'denies': 1031, 'temptation': 3905, 'counts': 899, 'wrapped': 4355, 'naming': 2600, 'reasoning': 3173, 'costs': 890, 'ignorance': 1958, 'frustration': 1643, 'democracy': 1026, 'leaps': 2261, 'interests': 2085, 'terrorists': 3917, 'babble': 357, 'intro': 2099, 'asks': 303, '17': 10, 'insists': 2057, 'realizes': 3168, 'teenage': 3897, 'burn': 541, 'driving': 1202, 'contributed': 855, 'ghost': 1697, 'browsing': 528, 'interactions': 2081, 'believer': 419, 'interviewed': 2093, 'session': 3491, 'reilly': 3225, 'terminology': 3910, 'dogma': 1164, 'demands': 1025, 'disaster': 1120, 'politically': 2931, 'application': 253, 'foot': 1588, 'mentioning': 2482, 'fuzzy': 1659, 'sends': 3470, 'evolved': 1384, 'unexpected': 4121, 'losing': 2357, 'stalin': 3680, 'misses': 2525, 'spoil': 3670, 'wholly': 4284, 'insert': 2051, 'lawyer': 2250, 'profile': 3033, 'photo': 2864, 'terrorist': 3916, 'lesser': 2283, 'additionally': 109, 'broken': 522, 'upset': 4148, 'kennedy': 2194, 'minute': 2520, 'remote': 3256, 'doctors': 1158, 'document': 1159, 'efficient': 1255, 'essentially': 1354, 'lend': 2279, 'lord': 2353, 'speeches': 3657, 'editorial': 1245, 'differently': 1095, 'conflicts': 806, 'calculations': 550, 'furthermore': 1655, 'strive': 3746, 'hack': 1787, 'stays': 3704, 'whereas': 4276, 'disguise': 1136, 'altogether': 190, 'imagining': 1981, 'sucked': 3786, 'removed': 3257, 'needless': 2621, 'prime': 3005, 'resolve': 3286, 'fixed': 1560, 'catholics': 603, 'sucks': 3787, 'rhetoric': 3322, 'cliche': 699, 'mentally': 2479, 'followers': 1583, 'paragraphs': 2799, 'annoying': 225, 'lacked': 2220, 'false': 1474, 'bestseller': 430, 'ruins': 3372, 'empty': 1287, 'fed': 1504, 'propaganda': 3049, 'praise': 2965, 'beware': 433, 'obscure': 2683, 'intrigue': 2096, 'asleep': 304, 'stranger': 3733, 'mac': 2379, 'wore': 4332, 'speed': 3658, 'patients': 2826, 'scientist': 3430, 'mood': 2543, 'tea': 3879, 'patrol': 2827, 'manipulation': 2407, 'abortion': 60, 'exposed': 1437, 'saving': 3410, 'bored': 484, 'receive': 3177, 'granted': 1747, 'pants': 2793, 'kidding': 2198, 'conducted': 800, 'bashing': 378, 'moreover': 2550, 'swallow': 3845, 'controversy': 862, 'sorely': 3629, 'torture': 4014, 'hype': 1943, 'advertisement': 129, 'wasted': 4239, 'fest': 1517, 'skipping': 3582, 'nonsense': 2649, 'crap': 914, 'cliched': 700, 'minus': 2519, 'flipping': 1568, 'hiding': 1867, 'competent': 765, 'stereotypes': 3710, 'corrupt': 886, 'repeats': 3263, 'contrived': 858, 'promising': 3046, 'spin': 3664, 'coulter': 893, 'dialog': 1080, 'snooze': 3598, 'poorly': 2935, 'trash': 4046, 'laughable': 2243, 'iq': 2118, 'net': 2628, 'awards': 349, 'voting': 4211, 'sci': 3427, 'fi': 1519, 'sake': 3394, 'manipulate': 2406, 'rape': 3137, 'useless': 4156, 'lame': 2226, 'sloppy': 3588, 'amounts': 205, 'disappointing': 1118, 'trite': 4070, 'ego': 1258, 'quit': 3114, 'hearing': 1839, 'homer': 1902, 'technically': 3890, 'reached': 3151, 'assertion': 307, 'san': 3402, 'titled': 3995, 'dean': 991, 'garbage': 1668, 'monster': 2540, 'minority': 2518, 'paste': 2821, 'forgettable': 1601, 'drivel': 1200, 'incorrect': 2014, 'threw': 3973, 'relies': 3240, 'cents': 618, 'tossed': 4015, 'lecture': 2270, 'representative': 3271, 'loses': 2356, 'pounds': 2955, 'distracting': 1148, 'portrays': 2943, 'credentials': 928, 'masters': 2436, 'shallow': 3506, 'attempting': 327, 'uninspired': 4124, 'blah': 459, 'ain': 159, 'whatsoever': 4272, 'glowing': 1715, 'hamilton': 1794, 'checked': 648, 'barbara': 372, 'ridiculously': 3330, 'uninteresting': 4125, 'ie': 1956, 'cells': 614, 'persons': 2852, 'unrealistic': 4140, 'pat': 2822, 'disappeared': 1116, 'roughly': 3366, 'redeeming': 3198, 'toxic': 4027, 'sounded': 3636, 'caricatures': 583, 'option': 2733, 'predicted': 2971}\n"
          ]
        }
      ],
      "source": [
        "print(vocab)"
      ]
    },
    {
      "cell_type": "code",
      "execution_count": null,
      "metadata": {
        "deletable": false,
        "editable": false,
        "nbgrader": {
          "checksum": "664fc86c70053a432a47b2f3c672ae91",
          "grade": false,
          "grade_id": "cell-c05892644a77a852",
          "locked": true,
          "schema_version": 1,
          "solution": false
        },
        "id": "-tHq3NUvZagG",
        "outputId": "e7f1b4c7-3f75-460e-9919-3b55a2421f08"
      },
      "outputs": [
        {
          "name": "stdout",
          "output_type": "stream",
          "text": [
            "A Positive Training Review:  This was perhaps the best of Johannes Steinhoff's books, since it does not  deal with his own stellar yet tragic WW II and post war career. The  insights of the average person living in Germany are of great importance to  both social and military historians alike. Steinhoff offered this  collective testament as a warning to all of us regarding war and the rise  of a dictator. As Johannes said in an interview, &quot;It is always the  civilians who suffer the most, yet are remembered the least.&quot\n",
            "\n",
            "A Negative Training Review:  I got to page 26 and gave up.  Lockes writings lack focus and are void of humour.  I read as much as I could with patience until it became clear this book was simply someone rambling on about nothing.  Save your money for something worth reading\n",
            "\n"
          ]
        }
      ],
      "source": [
        "# print some training review\n",
        "print('A Positive Training Review: ', review_train.iloc[0]['review'])\n",
        "print('A Negative Training Review: ', review_train.iloc[-1]['review'])"
      ]
    },
    {
      "cell_type": "markdown",
      "metadata": {
        "deletable": false,
        "editable": false,
        "nbgrader": {
          "checksum": "c416124aac1636f9c12603ec04562913",
          "grade": false,
          "grade_id": "cell-8209f25427ee055e",
          "locked": true,
          "schema_version": 1,
          "solution": false
        },
        "id": "WR2YY2KzZagH"
      },
      "source": [
        "We also created a function <code>generate_featurizer</code> takes in a vocabulary and return a bow featurizer based on the vocabulary. Using the returned featurizer, you can convert a sentence into a bag of word feature vector. See the following cell for example:"
      ]
    },
    {
      "cell_type": "code",
      "execution_count": null,
      "metadata": {
        "deletable": false,
        "editable": false,
        "nbgrader": {
          "checksum": "41692d4ce7881257cf95cd240e0fa036",
          "grade": false,
          "grade_id": "cell-bf9a446569cfd0bc",
          "locked": true,
          "schema_version": 1,
          "solution": false
        },
        "id": "1gmTluaoZagH",
        "outputId": "47767b4d-c29a-4e36-e939-937e62670050"
      },
      "outputs": [
        {
          "data": {
            "text/plain": [
              "array([[2, 2, 1, 1]])"
            ]
          },
          "execution_count": 7,
          "metadata": {},
          "output_type": "execute_result"
        }
      ],
      "source": [
        "# Create a simple vocabulary\n",
        "simple_vocab = {'learn': 0, 'machine': 1, 'learning': 2, 'teach': 3}\n",
        "\n",
        "# Create a simple sentence that will be converted into bag of words features\n",
        "simple_sentence = ' I learn machine learning to teach machine how to learn.'\n",
        "\n",
        "# Create a featurizer by passing in the vocabulary\n",
        "simple_featurizer = generate_featurizer(simple_vocab)\n",
        "\n",
        "# Call simple_featurizer.transform to transform the sentence to its bag of word features\n",
        "simple_featurizer.transform([simple_sentence]).toarray()\n",
        "\n",
        "# You should get array([[2, 2, 1, 1]]) as output.\n",
        "# This means that the sentence has 2 occurences of 'learn', 2 occurences of 'machine', \n",
        "# 1 occurence of 'learning' and 1 occurence of 'teach'"
      ]
    },
    {
      "cell_type": "markdown",
      "metadata": {
        "deletable": false,
        "editable": false,
        "nbgrader": {
          "checksum": "f279fbadbe4acfd8ca75375329cca5e3",
          "grade": false,
          "grade_id": "cell-2477750b684a6115",
          "locked": true,
          "schema_version": 1,
          "solution": false
        },
        "id": "ZxqC3hgiZagI"
      },
      "source": [
        "Now we will use <code>generate_featurizer</code> to generate a featurizer based on the vocabulary we provided"
      ]
    },
    {
      "cell_type": "code",
      "execution_count": null,
      "metadata": {
        "deletable": false,
        "editable": false,
        "nbgrader": {
          "checksum": "e980b80b1e23bca2e723fcdc422ea516",
          "grade": false,
          "grade_id": "cell-6d837743526c112c",
          "locked": true,
          "schema_version": 1,
          "solution": false
        },
        "id": "RWt1cPWHZagI"
      },
      "outputs": [],
      "source": [
        "# Use the given vocab to generate bag of word featurizer\n",
        "# See the next cell for an example\n",
        "bow_featurizer = generate_featurizer(vocab)"
      ]
    },
    {
      "cell_type": "code",
      "execution_count": null,
      "metadata": {
        "id": "YkSNdwduZagI",
        "outputId": "7a4b0c46-8568-42d9-895a-98fd86dc5ec5"
      },
      "outputs": [
        {
          "data": {
            "text/plain": [
              "CountVectorizer(analyzer='word', binary=False, decode_error='strict',\n",
              "                dtype=<class 'numpy.int64'>, encoding='utf-8', input='content',\n",
              "                lowercase=True, max_df=1.0, max_features=None, min_df=1,\n",
              "                ngram_range=(1, 1), preprocessor=None, stop_words=None,\n",
              "                strip_accents=None, token_pattern='(?u)\\\\b\\\\w\\\\w+\\\\b',\n",
              "                tokenizer=None,\n",
              "                vocabulary={'000': 0, '10': 1, '100': 2, '11': 3, '12': 4,\n",
              "                            '13': 5, '14': 6, '15': 7, '150': 8, '16': 9,\n",
              "                            '17': 10, '19': 11, '1950': 12, '1960': 13,\n",
              "                            '1960s': 14, '1970': 15, '1970s': 16, '1980': 17,\n",
              "                            '1980s': 18, '1990': 19, '1990s': 20, '1992': 21,\n",
              "                            '1995': 22, '1999': 23, '19th': 24, '20': 25,\n",
              "                            '200': 26, '2000': 27, '2002': 28, '2004': 29, ...})"
            ]
          },
          "execution_count": 9,
          "metadata": {},
          "output_type": "execute_result"
        }
      ],
      "source": [
        "bow_featurizer"
      ]
    },
    {
      "cell_type": "markdown",
      "metadata": {
        "deletable": false,
        "editable": false,
        "nbgrader": {
          "checksum": "51fc710ef877b704121c77bdb66f8989",
          "grade": false,
          "grade_id": "cell-65b53c8818c65572",
          "locked": true,
          "schema_version": 1,
          "solution": false
        },
        "id": "p0f3ZcoDZagI"
      },
      "source": [
        "Using the featurizer, we will convert the training reviews and test reviews into bag of word representation and PyTorch Tensor"
      ]
    },
    {
      "cell_type": "code",
      "execution_count": null,
      "metadata": {
        "deletable": false,
        "editable": false,
        "nbgrader": {
          "checksum": "352777aea0a97017c95a694072aa3e08",
          "grade": false,
          "grade_id": "cell-2d941e1cd5976a2d",
          "locked": true,
          "schema_version": 1,
          "solution": false
        },
        "id": "mSjvt5AJZagJ"
      },
      "outputs": [],
      "source": [
        "# convert the reviews to bow representation and torch Tensor\n",
        "X_train = torch.Tensor(bow_featurizer.transform(review_train['review'].values).toarray())\n",
        "y_train = torch.LongTensor(review_train['label'].values.flatten())\n",
        "\n",
        "X_test = torch.Tensor(bow_featurizer.transform(review_test['review'].values).toarray())\n",
        "y_test = torch.LongTensor(review_test['label'].values.flatten())"
      ]
    },
    {
      "cell_type": "code",
      "execution_count": null,
      "metadata": {
        "deletable": false,
        "editable": false,
        "nbgrader": {
          "checksum": "18baefed3fb329aa566ad31e5f433e8f",
          "grade": false,
          "grade_id": "cell-4488693f8d463c80",
          "locked": true,
          "schema_version": 1,
          "solution": false
        },
        "id": "cROGQ7nsZagJ"
      },
      "outputs": [],
      "source": [
        "# Generate PyTorch Datasets \n",
        "trainset = torch.utils.data.TensorDataset(X_train, y_train)\n",
        "testset = torch.utils.data.TensorDataset(X_test, y_test)\n",
        "\n",
        "# Generate PyTorch Dataloaders\n",
        "trainloader = torch.utils.data.DataLoader(trainset, batch_size=128, shuffle=True, drop_last=True)\n",
        "testloader = torch.utils.data.DataLoader(testset, batch_size=128, shuffle=True, drop_last=False)"
      ]
    },
    {
      "cell_type": "markdown",
      "metadata": {
        "deletable": false,
        "editable": false,
        "nbgrader": {
          "checksum": "ff001e5842de865d673f87ffc2a70054",
          "grade": false,
          "grade_id": "cell-2f35ad9e435c7f99",
          "locked": true,
          "schema_version": 1,
          "solution": false
        },
        "id": "lhIkmRInZagJ"
      },
      "source": [
        "### Part Two: Implement a Deep Averaging Network [Graded]\n",
        "\n",
        "We have defined a PyTorch network class for you. What you need to do is to implement the forward pass for your deep averaging network. To start, first implement <code>average</code> that averages the words in a review and then implement <code>forward</code> that passes the \"averaged\" review to a linear layer to produce the model's belief.\n",
        "\n",
        "- For `average` recall that multiplying the matrix of the bag-of-words with the word embeddings will get you the embedded representations for the reviews. You then want to average over all the different words in a review to get an \"average\" embedding for each review. Note that here, we compute a weighted average. I.e. Let $\\mathbf{E}\\in{\\mathcal{R}}^{r\\times v}$ be the embedding matrix (with embedding dimensionality $r$ and vocabulary size $v$). The $i^{th}$ column of $\\mathbf{E}$ is the embedding of word $i$ in the vocabulary (we denote it as $\\mathbf{E}[:,i]$). Further, let $\\mathbf{x}\\in{\\mathcal{R}}^{1\\times v}$ be a horizontal bag-of-words input vector. We compute the average embedding as follows:\n",
        "$$\\mathbf{a}=\\frac{1}{\\sum_i \\mathbf{x}[i]}\\sum_{j}\\mathbf{E}[:,j]\\mathbf{x}[j]$$\n",
        "In the function you need to compute this average for each input vector (the input <code>x</code> is a list of inputs). \n",
        "- For `forward`, pass the output of `average` through the linear layer stored in `self.fc`."
      ]
    },
    {
      "cell_type": "code",
      "execution_count": null,
      "metadata": {
        "deletable": false,
        "nbgrader": {
          "checksum": "39b082cf3c132a13e09e1ab97cdfdaa4",
          "grade": false,
          "grade_id": "cell-DAN",
          "locked": false,
          "schema_version": 1,
          "solution": true
        },
        "id": "Eo2t4rK1ZagK"
      },
      "outputs": [],
      "source": [
        "# Create a Deep Averaging network model class\n",
        "# embedding_size is the size of the word_embedding we are going to learn\n",
        "class DAN(nn.Module):\n",
        "    def __init__(self, vocab_size, embedding_size=32):\n",
        "        super().__init__()\n",
        "        \n",
        "        # Create a word-embedding of dimension embedding_size\n",
        "        # self.embeds is now the matrix E, where each column corresponds to the embedding of a word\n",
        "        self.embeds = torch.nn.Parameter(torch.randn(vocab_size, embedding_size))\n",
        "        self.embeds.requires_grad_(True)       \n",
        "        # add a final linear layer that computes the 2d output from the averaged word embedding\n",
        "        self.fc = nn.Linear(embedding_size, 2) \n",
        "        \n",
        "    def average(self, x):\n",
        "        '''\n",
        "        This function takes in multiple inputs, stored in one tensor x. Each input is a bag of word representation of reviews. \n",
        "        For each review, it retrieves the word embedding of each word in the review and averages them (weighted by the corresponding\n",
        "        entry in x). \n",
        "        \n",
        "        Input: \n",
        "            x: nxd torch Tensor where each row corresponds to bag of word representation of a review\n",
        "        \n",
        "        Output:\n",
        "            n x (embedding_size) torch Tensor for the averaged reivew \n",
        "        '''\n",
        "        \n",
        "        # YOUR CODE HERE\n",
        "        \n",
        "        \n",
        "        emb = torch.matmul(x, self.embeds)/x.sum(axis=1, keepdims=True)\n",
        "        return emb\n",
        "          \n",
        "    def forward(self, x):\n",
        "        '''\n",
        "        This function takes in a bag of word representation of reviews. It calls the self.average to get the\n",
        "        averaged review and pass it through the linear layer to produce the model's belief.\n",
        "        \n",
        "        Input: \n",
        "            x: nxd torch Tensor where each row corresponds to bag of word representation of reviews\n",
        "        \n",
        "        Output:\n",
        "            nx2 torch Tensor that corresponds to model belief of the input. For instance, output[0][0] is\n",
        "            is the model belief that the 1st review is negative\n",
        "        '''\n",
        "        review_averaged = self.average(x)\n",
        "        \n",
        "        out = None\n",
        "        # YOUR CODE HERE\n",
        "        \n",
        "        out = self.fc(review_averaged)\n",
        "        \n",
        "        return out"
      ]
    },
    {
      "cell_type": "code",
      "execution_count": null,
      "metadata": {
        "deletable": false,
        "editable": false,
        "nbgrader": {
          "checksum": "547524d3fce1cef6c3220942f35fbf52",
          "grade": false,
          "grade_id": "cell-DAN-selftest",
          "locked": true,
          "schema_version": 1,
          "solution": false
        },
        "id": "Ab0dC2DRZagK",
        "outputId": "3e53d465-0cc3-45f0-cf03-e297d20589c6"
      },
      "outputs": [
        {
          "name": "stdout",
          "output_type": "stream",
          "text": [
            "Running Test: average_test1 ... ✔ Passed!\n",
            "Running Test: average_test2 ... ✔ Passed!\n",
            "Running Test: average_test3 ... ✔ Passed!\n",
            "Running Test: forward_test1 ... ✔ Passed!\n",
            "Running Test: forward_test2 ... ✔ Passed!\n"
          ]
        }
      ],
      "source": [
        "def average_test1(): # check the output dinemsions of the average function\n",
        "    n = 10 # number of reviews\n",
        "    vocab_size = 5 # vocab size\n",
        "    embedding_size = 32 # embedding size\n",
        "    model = DAN(vocab_size, embedding_size)\n",
        "    X = torch.rand(n, vocab_size)    \n",
        "    output_size = model.average(X).shape    \n",
        "    # the output of your forward function should be nx2\n",
        "    return output_size[0] == n and output_size[1] == embedding_size\n",
        "\n",
        "def average_test2():\n",
        "    n = 10 # number of reviews\n",
        "    vocab_size = 3 # vocab size\n",
        "    embedding_size = 5 # embedding size\n",
        "    model = DAN(vocab_size, embedding_size)\n",
        "    \n",
        "    # generate a simple input\n",
        "    X = torch.FloatTensor([\n",
        "        [1, 0, 0],\n",
        "        [0, 1, 0],\n",
        "        [0, 0, 1],\n",
        "        [1, 1, 1],\n",
        "    ])\n",
        "    \n",
        "    # Get the averaged reviews\n",
        "    averaged_reviews = model.average(X)\n",
        "    \n",
        "    # Given the input, we know that the first 3 rows corresponds to the first three words\n",
        "    # The last row should be the average of the three words\n",
        "    # The diff between the last row and the average of the first three rows should be small\n",
        "    diff = torch.sum((torch.mean(averaged_reviews[:3], dim=0) - averaged_reviews[3]) ** 2).item()\n",
        "    \n",
        "    return diff < 1e-5\n",
        "\n",
        "def average_test3():\n",
        "    n = 10 # number of reviews\n",
        "    vocab_size = 3 # vocab size\n",
        "    embedding_size = 5 # embedding size\n",
        "    model = DAN(vocab_size, embedding_size)\n",
        "    \n",
        "    # generate a simple input\n",
        "    X = torch.FloatTensor([\n",
        "        [1, 1, 1],\n",
        "        [2, 2, 2]\n",
        "    ])\n",
        "    \n",
        "    # Get the averaged reviews\n",
        "    averaged_reviews = model.average(X)\n",
        "    \n",
        "    # Since the 2nd review is a multiple of the first,\n",
        "    # The two averaged review should be the same\n",
        "    diff = torch.sum((averaged_reviews[0] - averaged_reviews[1])**2).item()\n",
        "    \n",
        "    return diff < 1e-5\n",
        "\n",
        "def forward_test1():\n",
        "    n = 10 # number of reviews\n",
        "    vocab_size = 5 # vocab size\n",
        "    embedding_size = 32 # embedding size\n",
        "    model = DAN(vocab_size, embedding_size)\n",
        "    \n",
        "    # call the forward function\n",
        "    X = torch.rand(n, vocab_size)\n",
        "    \n",
        "    output_size = model(X).shape\n",
        "    \n",
        "    # the output of your forward function should be nx2\n",
        "    return output_size[0] == n and output_size[1] == 2\n",
        "\n",
        "def forward_test2():\n",
        "    n = 10 # number of reviews\n",
        "    vocab_size = 5 # vocab size\n",
        "    embedding_size = 32 # embedding size\n",
        "    model = DAN(vocab_size, embedding_size)\n",
        "    X = torch.rand(n, vocab_size)\n",
        "    \n",
        "    logits = model(X) # get the output of your forward pass\n",
        "    \n",
        "    averaged_reviews = model.average(X) # get the intermediate averaged review\n",
        "    logits2 = model.fc(averaged_reviews) # get the model belief using your intermediate average reviews\n",
        "    \n",
        "    return torch.sum((logits - logits2)**2).item() < 1e-5 # Check whether your forward pass is implemented correctly\n",
        "\n",
        "runtest(average_test1, 'average_test1')\n",
        "runtest(average_test2, 'average_test2')\n",
        "runtest(average_test3, 'average_test3')\n",
        "runtest(forward_test1, 'forward_test1')\n",
        "runtest(forward_test2, 'forward_test2')"
      ]
    },
    {
      "cell_type": "code",
      "execution_count": null,
      "metadata": {
        "deletable": false,
        "editable": false,
        "nbgrader": {
          "checksum": "68fbd60480656b4c49da5acd6066a5e7",
          "grade": true,
          "grade_id": "cell-average_test1",
          "locked": true,
          "points": 1,
          "schema_version": 1,
          "solution": false
        },
        "id": "GYgGYje5ZagM"
      },
      "outputs": [],
      "source": [
        "# Autograder Test Cell\n",
        "# average_test1\n"
      ]
    },
    {
      "cell_type": "code",
      "execution_count": null,
      "metadata": {
        "deletable": false,
        "editable": false,
        "nbgrader": {
          "checksum": "cf5bf528071bcff37416187396845c6e",
          "grade": true,
          "grade_id": "cell-average_test2",
          "locked": true,
          "points": 1,
          "schema_version": 1,
          "solution": false
        },
        "id": "itZjLdh0ZagM"
      },
      "outputs": [],
      "source": [
        "# Autograder Test Cell\n",
        "# average_test2\n"
      ]
    },
    {
      "cell_type": "code",
      "execution_count": null,
      "metadata": {
        "deletable": false,
        "editable": false,
        "nbgrader": {
          "checksum": "f63c80aa8f4173b740eed8dd7efad3b6",
          "grade": true,
          "grade_id": "cell-average_test3",
          "locked": true,
          "points": 1,
          "schema_version": 1,
          "solution": false
        },
        "id": "bSdzytfgZagM"
      },
      "outputs": [],
      "source": [
        "# Autograder Test Cell\n",
        "# average_test3\n"
      ]
    },
    {
      "cell_type": "code",
      "execution_count": null,
      "metadata": {
        "deletable": false,
        "editable": false,
        "nbgrader": {
          "checksum": "04991c276ec129b4722fce5798a6befa",
          "grade": true,
          "grade_id": "cell-forward_test1",
          "locked": true,
          "points": 1,
          "schema_version": 1,
          "solution": false
        },
        "id": "HothSyROZagN"
      },
      "outputs": [],
      "source": [
        "# Autograder Test Cell\n",
        "# forward_test1\n"
      ]
    },
    {
      "cell_type": "code",
      "execution_count": null,
      "metadata": {
        "deletable": false,
        "editable": false,
        "nbgrader": {
          "checksum": "55304a6ab77487cd60aaa87c276a0665",
          "grade": true,
          "grade_id": "cell-forward_test2",
          "locked": true,
          "points": 1,
          "schema_version": 1,
          "solution": false
        },
        "id": "npe6b3lBZagN"
      },
      "outputs": [],
      "source": [
        "# Autograder Test Cell\n",
        "# forward_test2\n"
      ]
    },
    {
      "cell_type": "code",
      "execution_count": null,
      "metadata": {
        "deletable": false,
        "editable": false,
        "nbgrader": {
          "checksum": "3b8261b508f3c85f4f20f83fdfe5a367",
          "grade": false,
          "grade_id": "cell-5efa7383fb4c7bb7",
          "locked": true,
          "schema_version": 1,
          "solution": false
        },
        "id": "ujvlIM2nZagN"
      },
      "outputs": [],
      "source": [
        "# Create a model\n",
        "model = DAN(len(vocab), embedding_size=32)\n",
        "\n",
        "if gpu_available:\n",
        "    model = model.cuda()"
      ]
    },
    {
      "cell_type": "markdown",
      "metadata": {
        "deletable": false,
        "editable": false,
        "nbgrader": {
          "checksum": "9f3bbba963200a34d3bedf05cc2eb5de",
          "grade": false,
          "grade_id": "cell-f34ae8bcfb938028",
          "locked": true,
          "schema_version": 1,
          "solution": false
        },
        "id": "Tgo6u5inZagN"
      },
      "source": [
        "### Part Three: Define the loss function and optimizer"
      ]
    },
    {
      "cell_type": "code",
      "execution_count": null,
      "metadata": {
        "deletable": false,
        "editable": false,
        "nbgrader": {
          "checksum": "50f3d0b2884455afa36f3eaaa788906e",
          "grade": false,
          "grade_id": "cell-06935b2f38a60afb",
          "locked": true,
          "schema_version": 1,
          "solution": false
        },
        "id": "ggjuZveAZagO"
      },
      "outputs": [],
      "source": [
        "# Create optimizer and loss function\n",
        "loss_fn = nn.CrossEntropyLoss()\n",
        "optimizer = torch.optim.SGD(model.parameters(), lr=5)"
      ]
    },
    {
      "cell_type": "markdown",
      "metadata": {
        "deletable": false,
        "editable": false,
        "nbgrader": {
          "checksum": "b62331156b3002d999e2293ed8c0da32",
          "grade": false,
          "grade_id": "cell-756fe2729112ef19",
          "locked": true,
          "schema_version": 1,
          "solution": false
        },
        "id": "4yGjiXPqZagO"
      },
      "source": [
        "### Part Four: Train the network\n",
        "\n",
        "Run the following cell to train your network."
      ]
    },
    {
      "cell_type": "code",
      "execution_count": null,
      "metadata": {
        "deletable": false,
        "editable": false,
        "nbgrader": {
          "checksum": "43bd1f03e475d493e8b8847d184084e4",
          "grade": false,
          "grade_id": "cell-3374e25d9a304abf",
          "locked": true,
          "schema_version": 1,
          "solution": false
        },
        "id": "ibmrmtKKZagO",
        "outputId": "c5189726-30ec-4d20-a01d-13ab0f7360a2"
      },
      "outputs": [
        {
          "name": "stdout",
          "output_type": "stream",
          "text": [
            "Epoch [100 / 1000] Average Training Accuracy: 0.748197\n",
            "Epoch [100 / 1000] Average Training loss: 0.707193\n",
            "Epoch [200 / 1000] Average Training Accuracy: 0.995793\n",
            "Epoch [200 / 1000] Average Training loss: 0.026977\n",
            "Epoch [300 / 1000] Average Training Accuracy: 1.000000\n",
            "Epoch [300 / 1000] Average Training loss: 0.007091\n",
            "Epoch [400 / 1000] Average Training Accuracy: 1.000000\n",
            "Epoch [400 / 1000] Average Training loss: 0.003557\n",
            "Epoch [500 / 1000] Average Training Accuracy: 1.000000\n",
            "Epoch [500 / 1000] Average Training loss: 0.002287\n",
            "Epoch [600 / 1000] Average Training Accuracy: 1.000000\n",
            "Epoch [600 / 1000] Average Training loss: 0.001651\n",
            "Epoch [700 / 1000] Average Training Accuracy: 1.000000\n",
            "Epoch [700 / 1000] Average Training loss: 0.001258\n",
            "Epoch [800 / 1000] Average Training Accuracy: 1.000000\n",
            "Epoch [800 / 1000] Average Training loss: 0.001007\n",
            "Epoch [900 / 1000] Average Training Accuracy: 1.000000\n",
            "Epoch [900 / 1000] Average Training loss: 0.000861\n",
            "Epoch [1000 / 1000] Average Training Accuracy: 1.000000\n",
            "Epoch [1000 / 1000] Average Training loss: 0.000730\n"
          ]
        }
      ],
      "source": [
        "# Start Training\n",
        "num_epochs = 1000\n",
        "\n",
        "model.train()\n",
        "for epoch in range(num_epochs):\n",
        "    \n",
        "    # Define the following variables to keep track of the running losses and accuracies\n",
        "    running_loss = 0.0\n",
        "    running_acc = 0.0\n",
        "    count = 0\n",
        "    \n",
        "    for i, (X, y) in enumerate(trainloader):\n",
        "        \n",
        "        # use gpu if necessary\n",
        "        if gpu_available:\n",
        "            X = X.cuda()\n",
        "            y = y.cuda()\n",
        "        \n",
        "        # clear the gradient buffer\n",
        "        optimizer.zero_grad()\n",
        "        \n",
        "        # Do forward propagation to get the model's belief\n",
        "        logits = model(X)\n",
        "        \n",
        "        # Compute the loss\n",
        "        loss = loss_fn(logits, y)\n",
        "        \n",
        "        # Run a backward propagation to get the gradient\n",
        "        loss.backward()\n",
        "        \n",
        "        # Update the model's parameter\n",
        "        optimizer.step()\n",
        "        \n",
        "        # Get the model's prediction \n",
        "        pred = torch.argmax(logits,dim=1)\n",
        "        \n",
        "        # Update the running statistics\n",
        "        running_acc += torch.sum((pred == y).float()).item()\n",
        "        running_loss += loss.item()\n",
        "        count += X.size(0)\n",
        "        \n",
        "    # print the running statistics after training for 100 epochs\n",
        "    if (epoch + 1) % 100 == 0:\n",
        "        print('Epoch [{} / {}] Average Training Accuracy: {:4f}'.format(epoch + 1, num_epochs, running_acc / count))\n",
        "        print('Epoch [{} / {}] Average Training loss: {:4f}'.format(epoch + 1, num_epochs, running_loss / len(trainloader)))"
      ]
    },
    {
      "cell_type": "markdown",
      "metadata": {
        "deletable": false,
        "editable": false,
        "nbgrader": {
          "checksum": "63e865f77c6b048cf5f32190fa77bbce",
          "grade": false,
          "grade_id": "cell-d8c31d9dc298f8dd",
          "locked": true,
          "schema_version": 1,
          "solution": false
        },
        "id": "Nka3jCKeZagP"
      },
      "source": [
        "### Step 5: Evaluate your model on the test data"
      ]
    },
    {
      "cell_type": "code",
      "execution_count": null,
      "metadata": {
        "deletable": false,
        "editable": false,
        "nbgrader": {
          "checksum": "b1629ccad920bedcdfb40195e9894c3b",
          "grade": false,
          "grade_id": "cell-7a88e5112d7584a3",
          "locked": true,
          "schema_version": 1,
          "solution": false
        },
        "id": "5YHnN2k0ZagP",
        "outputId": "a14780e6-b712-4a5c-a3b1-e2c1c315620a"
      },
      "outputs": [
        {
          "name": "stdout",
          "output_type": "stream",
          "text": [
            "Your Test Accuracy is 0.8850\n"
          ]
        }
      ],
      "source": [
        "# Evaluate the model\n",
        "model.eval()\n",
        "\n",
        "# Define the following variable to keep track of the accuracy\n",
        "running_acc = 0.0\n",
        "count = 0.0\n",
        "\n",
        "for (X, y) in testloader:\n",
        "    # Use gpu if available\n",
        "    if gpu_available:\n",
        "        X = X.cuda()\n",
        "        y = y.cuda()\n",
        "\n",
        "    # Do a forward pass and tell PyTorch that no gradient is necessary to save memory\n",
        "    with torch.no_grad():\n",
        "        logits = model(X)\n",
        "    \n",
        "    # Calculate the prediction\n",
        "    pred = torch.argmax(logits,dim=1)\n",
        "    \n",
        "    # Update the running stats\n",
        "    running_acc += torch.sum((pred == y).float()).item()\n",
        "    count += X.size(0)\n",
        "\n",
        "print('Your Test Accuracy is {:.4f}'. format(running_acc / count))"
      ]
    },
    {
      "cell_type": "markdown",
      "metadata": {
        "deletable": false,
        "editable": false,
        "nbgrader": {
          "checksum": "4c63090fdb950f424286463b867f93af",
          "grade": false,
          "grade_id": "cell-60dca0660c0ba2c2",
          "locked": true,
          "schema_version": 1,
          "solution": false
        },
        "id": "rCbSHqazZagP"
      },
      "source": [
        "Run the following cells to see the a random test review and the model prediction. \n",
        "(You may observe that neural networks achieve high accuracy - but tend to be over-confident. This is because they achieve 100% training accuracy early on in the learning procedure and therefore learn that they tend to be always right.)"
      ]
    },
    {
      "cell_type": "code",
      "execution_count": null,
      "metadata": {
        "deletable": false,
        "editable": false,
        "nbgrader": {
          "checksum": "b4d5949ad4f9d1fed23cf7a2279ac330",
          "grade": false,
          "grade_id": "cell-705df6c45ad63992",
          "locked": true,
          "schema_version": 1,
          "solution": false
        },
        "id": "yAknFIyFZagQ",
        "outputId": "737e039e-68a8-4913-dd7c-da76e9f1bd1f"
      },
      "outputs": [
        {
          "name": "stdout",
          "output_type": "stream",
          "text": [
            "Review:  Alright, for those of you who say Rand is criticizing works for false ideals, or lacking in substance, I say this: who is Rand to say what the absolute greatest ideals are?  Who is Rand to say what substance is?  You've got to look at her bias, first.  Realize that Rand never takes into account anything not related to personal freedom.  As if outside factors never matter; and maybe they don't, for her.  Maybe her life in an oppressive Russia did nothing to form who she is today.  But I doubt it.\n",
            "\n",
            "Though I believe personal choice plays a huge factor in determining who we are and how we live, outside influences do affect a person.  But she doesn't.  Thus she condemns all works that are not driven solely by the individual as crap.  All books that are not driven solely by the individual's sense of reason: don't read, cause it will lessen your IQ.  \n",
            "\n",
            "Any work that portrays or is driven by an emotion she doesn't find worthwhile or cannot understand, she condemns.\n",
            "\n",
            "Rand, at least as portrayed in what I've read of her work, is unfeeling toward anything but what she wants.  And this is carried over into this book in what she criticizes.  They cannot hold a little or a fairly large amount of quality, they are either good or worthless.   The pieces of art she says are empty ARE empty, absolutely.  They don't fit into her paradigm thus have nothing to offer.  Nothing to offer her, that is.  \n",
            "\n",
            "How is a completely selfish person supposed to write a critique of history's best books, telling OTHER people (with different wants and ideas and all the other funtions of an individual) What they should read?  Truthfully any criticism in this form, like a list I saw detailing the 100 best literary works in the world, is elitist crap trying to close people's minds toward books that a certain group deems lesser than others.  They have their bias like anyone else.\n",
            "\n",
            "I say read in variety.  Observe art outside of Rand's choice of art.  Take in all you can, with an open mind, then start pondering whether you agree or not.  If you then agree because YOU agree, then I say great.  Its the basic individualistic response that Rand seems to forget to address.  She says question society, but by my line of inquiry.  She says be an individual, but only I know the basis of who you want to be\n",
            "\n",
            "Ground Truth:  Negative\n",
            "Prediction: Negative (Certainty 99.99%)\n"
          ]
        }
      ],
      "source": [
        "target = torch.randint(high=len(testset), size=(1,)).item()\n",
        "\n",
        "review_target, label_target = review_test.iloc[target]\n",
        "if gpu_available:\n",
        "    bog_target = testset[target][0].unsqueeze(0).cuda()\n",
        "else:\n",
        "    bog_target = testset[target][0].unsqueeze(0)\n",
        "\n",
        "\n",
        "model.eval()\n",
        "with torch.no_grad():\n",
        "    logits_target = model(bog_target)\n",
        "\n",
        "pred = torch.argmax(logits_target, dim=1)\n",
        "probability=torch.exp(logits_target.squeeze())/torch.sum(torch.exp(logits_target.squeeze()))\n",
        "\n",
        "print('Review: ', review_target)\n",
        "print('Ground Truth: ', label_meaning[int(label_target)])\n",
        "print('Prediction: %s (Certainty %2.2f%%)' % (label_meaning[pred.item()],100.0*probability[pred.item()]))"
      ]
    },
    {
      "cell_type": "code",
      "execution_count": null,
      "metadata": {
        "id": "Aootqsa3ZagQ"
      },
      "outputs": [],
      "source": [
        ""
      ]
    }
  ],
  "metadata": {
    "kernelspec": {
      "display_name": "Python 3",
      "language": "python",
      "name": "python3"
    },
    "language_info": {
      "codemirror_mode": {
        "name": "ipython",
        "version": 3
      },
      "file_extension": ".py",
      "mimetype": "text/x-python",
      "name": "python",
      "nbconvert_exporter": "python",
      "pygments_lexer": "ipython3",
      "version": "3.6.8"
    },
    "colab": {
      "name": "Deep Averaging Network.ipynb",
      "provenance": []
    }
  },
  "nbformat": 4,
  "nbformat_minor": 0
}
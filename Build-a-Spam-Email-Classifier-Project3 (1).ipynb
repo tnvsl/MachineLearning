{
 "cells": [
  {
   "cell_type": "markdown",
   "metadata": {
    "deletable": false,
    "editable": false,
    "nbgrader": {
     "checksum": "a4b40cc8e6d651b5847339f243e2e1c6",
     "grade": false,
     "grade_id": "cell-bb88f0a35b56d0ae",
     "locked": true,
     "schema_version": 1,
     "solution": false
    }
   },
   "source": [
    "<h2>About this Project</h2>\n",
    "\n",
    "**In this Project, you will create a logistic regression classifier that can \"filter\" spam email messages.** Having focused on modeling in the previous projects, you will now dive deep into email data and preprocessing. **This project does not have any graded exercises.** Instead, you will review how different pieces -- data, modeling, evaluation -- tie up to produce a Machine Learning model.\n",
    "\n",
    "At the end of the project is an ungraded challenge that we highly recommend! The goal is to improve than the naïve email classification by writing better a feature-extraction function."
   ]
  },
  {
   "cell_type": "markdown",
   "metadata": {
    "deletable": false,
    "editable": false,
    "nbgrader": {
     "checksum": "9a5db60cf2d87cbe7e95ed275d7d6cf9",
     "grade": false,
     "grade_id": "cell-ae461e465b7f800e",
     "locked": true,
     "schema_version": 1,
     "solution": false
    }
   },
   "source": [
    "<h2>Getting Started</h2>\n",
    "<h3>Python Initialization</h3> \n",
    "\n",
    "Please run the following code to initialize your Python kernel. You should be running a version of Python 3.x. </p>"
   ]
  },
  {
   "cell_type": "code",
   "execution_count": 1,
   "metadata": {
    "deletable": false,
    "editable": false,
    "nbgrader": {
     "checksum": "e3c7b9574a10eba8fe3ac62d643ec4da",
     "grade": false,
     "grade_id": "cell-a801a09f2b1fc82b",
     "locked": true,
     "schema_version": 1,
     "solution": false
    }
   },
   "outputs": [
    {
     "name": "stdout",
     "output_type": "stream",
     "text": [
      "You're running python 3.6.8\n"
     ]
    }
   ],
   "source": [
    "import numpy as np\n",
    "import os\n",
    "import matplotlib.pyplot as plt\n",
    "import pandas as pd\n",
    "%matplotlib inline \n",
    "\n",
    "from helper import *\n",
    "\n",
    "print('You\\'re running python %s' % sys.version.split(' ')[0])"
   ]
  },
  {
   "cell_type": "markdown",
   "metadata": {
    "deletable": false,
    "editable": false,
    "nbgrader": {
     "checksum": "e842cb3de553bb99e49e007b6aec210f",
     "grade": false,
     "grade_id": "cell-888232b67e0c4279",
     "locked": true,
     "schema_version": 1,
     "solution": false
    }
   },
   "source": [
    "## Build an Spam Email Classifier - Project 3 (Spam Email Classifier)\n",
    "\n",
    "### Load Data\n",
    "\n",
    "With logistic regression implemented, you can now build an email spam filter using logistic regression. The functions below load in pre-processed email data from cloud storage. With the naïve email extraction function, the emails are represented as binary vectors. We split the email on whitespace to get constituent words, or \"tokens\", and set the token's feature to 1. This is called a \"bag-of-words\" representation. "
   ]
  },
  {
   "cell_type": "code",
   "execution_count": 2,
   "metadata": {
    "deletable": false,
    "editable": false,
    "nbgrader": {
     "checksum": "6a8af21a17d79d56be9339368b50b327",
     "grade": false,
     "grade_id": "cell-4c6c79244c3f218c",
     "locked": true,
     "schema_version": 1,
     "solution": false
    }
   },
   "outputs": [],
   "source": [
    "import pandas as pd\n",
    "import dask\n",
    "import dask.bag\n",
    "from dask.diagnostics import ProgressBar\n",
    "\n",
    "train_url = 's3://codio/CIS530/CIS533/data_train'\n",
    "test_url = 's3://codio/CIS530/CIS533/data_test'"
   ]
  },
  {
   "cell_type": "code",
   "execution_count": 3,
   "metadata": {
    "deletable": false,
    "editable": false,
    "nbgrader": {
     "checksum": "8f27a7ec5094830ca6138bd3e711e665",
     "grade": false,
     "grade_id": "cell-70701f9eab7d5a2f",
     "locked": true,
     "schema_version": 1,
     "solution": false
    }
   },
   "outputs": [
    {
     "name": "stdout",
     "output_type": "stream",
     "text": [
      "[########################################] | 100% Completed |  1min  4.4s\n",
      "Loaded 5000 input emails.\n"
     ]
    }
   ],
   "source": [
    "# tokenize the email and hashes the symbols into a vector\n",
    "def extract_features_naive(email, B):\n",
    "    '''\n",
    "    Returns a vector representation for email. The vector is of length B.\n",
    "    \n",
    "    Input:\n",
    "        email: list of lines in an email\n",
    "        B: number of dimensions of output vector\n",
    "        \n",
    "    Output:\n",
    "        B-dimensional vector\n",
    "    '''\n",
    "    # initialize all-zeros feature vector\n",
    "    v = np.zeros(B)\n",
    "    email = ' '.join(email)\n",
    "    \n",
    "    # breaks for non-ascii characters\n",
    "    tokens = email.split()\n",
    "    for token in tokens:\n",
    "        v[hash(token) % B] = 1\n",
    "    return v\n",
    "\n",
    "\n",
    "def load_spam_data(extract_features, B=512, url=train_url):\n",
    "    '''\n",
    "    Loads email data from url and extracts features using the extract_features function.\n",
    "    \n",
    "    Input:\n",
    "        extractfeatures: function to extract features\n",
    "        B: (optional, default 512) dimensionality of feature space\n",
    "        url: (optional, default train_url) path to the data\n",
    "    \n",
    "    Output:\n",
    "        xs, ys, contents\n",
    "        xs: data matrix of shape nxB where n is the number of emails\n",
    "        ys: n labels (+1 for spam or -1 for non-spam)\n",
    "        contents: all unprocessed emails\n",
    "    '''\n",
    "    \n",
    "    all_emails = pd.read_csv(os.path.join(url, 'index'), header=None).values.flatten()\n",
    "    \n",
    "    xs = np.zeros((len(all_emails), B))\n",
    "    ys = np.zeros(len(all_emails))\n",
    "    \n",
    "    labels = [k.split()[0] for k in all_emails]\n",
    "    paths = [os.path.join(url, k.split()[1]) for k in all_emails]\n",
    "\n",
    "    ProgressBar().register()\n",
    "    dask.config.set(scheduler='threads', num_workers=50)\n",
    "    bag = dask.bag.read_text(paths, storage_options={'anon': True})\n",
    "    contents = dask.bag.compute(*bag.to_delayed())\n",
    "    for i, email in enumerate(contents):\n",
    "        # make labels +1 for \"spam\" and -1 for \"non-spam\" (convert from 0, 1 to -1, +1)\n",
    "        ys[i] = (labels[i] == 'spam') * 2 - 1\n",
    "        xs[i, :] = extract_features(email, B)\n",
    "    print('Loaded %d input emails.' % len(ys))\n",
    "    return xs, ys, contents\n",
    "\n",
    "Xspam, Yspam, contents = load_spam_data(extract_features_naive)"
   ]
  },
  {
   "cell_type": "markdown",
   "metadata": {
    "deletable": false,
    "editable": false,
    "nbgrader": {
     "checksum": "a4d20ab3908e2e709759fe8a3ee9da5c",
     "grade": false,
     "grade_id": "cell-f4c094d45f62c08d",
     "locked": true,
     "schema_version": 1,
     "solution": false
    }
   },
   "source": [
    "### First, let's inspect the data."
   ]
  },
  {
   "cell_type": "code",
   "execution_count": 4,
   "metadata": {
    "deletable": false,
    "editable": false,
    "nbgrader": {
     "checksum": "c8c61b9e1e20feb6753c576924f021fb",
     "grade": false,
     "grade_id": "cell-c8c8b48777d4cb55",
     "locked": true,
     "schema_version": 1,
     "solution": false
    }
   },
   "outputs": [
    {
     "name": "stdout",
     "output_type": "stream",
     "text": [
      "(5000, 512)\n",
      "1.0 spam\n",
      "['From paulson6@arabia.com  Mon Jun 25 13:11:28 2001\\n'\n",
      " 'Return-Path: <paulson6@arabia.com>\\n'\n",
      " 'Delivered-To: yyyy@netnoteinc.com\\n'\n",
      " 'Received: from exchange.harbin.cc (unknown [202.97.247.130]) by\\n'\n",
      " '    mail.netnoteinc.com (Postfix) with ESMTP id CABAA114155 for\\n'\n",
      " '    <jm7@netnoteinc.com>; Mon, 25 Jun 2001 12:18:19 +0100 (IST)\\n'\n",
      " 'Received: from 207.173.146.92 (eli-207-173-146-92.fgn.net\\n'\n",
      " '    [207.173.146.92]) by exchange.harbin.cc with SMTP (Microsoft Exchange\\n'\n",
      " '    Internet Mail Service Version 5.5.2650.21) id NM8LGL9X; Mon,\\n'\n",
      " '    25 Jun 2001 18:26:25 +0800\\n'\n",
      " 'Message-Id: <0000104257bd$00001f24$00007177@>\\n'\n",
      " 'To: <Undisclosed Recipients@netnoteinc.com>\\n'\n",
      " 'From: paulson6@arabia.com\\n'\n",
      " 'Subject: *THE LEGAL CABLE TV DESCRAMBLER*\\n'\n",
      " 'Date: Sun, 24 Jun 2001 20:45:01 -0700\\n' 'MIME-Version: 1.0\\n'\n",
      " 'Content-Transfer-Encoding: quoted-printable\\n' 'X-Priority: 3\\n'\n",
      " 'X-Msmail-Priority: Normal\\n' '\\n' '\\n' '<HTML>\\n' '<BODY>\\n' '\\n'\n",
      " '<FONT face=3D\"MS Sans Serif\">\\n' '<FONT size=3D2><B> <BR>\\n' '</B>\\n'\n",
      " '<FONT color=3D\"#008080\"><B> NOTE: THIS IS AN ADVERTISEMENT FOR LEGAL TV<BR=\\n'\n",
      " '>\\n' '   DE-SCRAMBLER IF YOU HAVE NO INTEREST IN THIS INFORMATION<BR>\\n'\n",
      " 'PLEASE CLICK DELETE NOW.  THANK YOU--<BR>\\n' '</B></FONT><B> <BR>\\n'\n",
      " '<BR>\\n' 'LEGAL CABLE TV DE-SCRAMBLER<BR>\\n' '<BR>\\n'\n",
      " 'Want to watch Sporting Events?--Movies?--Pay-Per-View??<BR>\\n' '<BR>\\n'\n",
      " '*This is the Famous R-D-O Shack TV Descrambler<BR>\\n'\n",
      " 'You can assemble it from R-D-O Shack parts for about $12 or $15.<BR>\\n'\n",
      " '<BR>\\n' 'We Send You:<BR>\\n'\n",
      " 'E-Z To follow Assembly Instructions.<BR>\\n'\n",
      " 'E-Z To read Original Drawings.<BR>\\n'\n",
      " 'The Famous R-D-O Shack Parts List.<BR>\\n' '<BR>\\n'\n",
      " 'PLUS SOMETHING NEW YOU MUST HAVE!<BR>\\n' '<BR>\\n'\n",
      " \"Something you can't do without.<BR>\\n\" '<BR>\\n'\n",
      " 'THE UP-TO-DATE REPORT: USING A DESCRAMBLER LEGALLY<BR>\\n' '<BR>\\n'\n",
      " '<BR>\\n' '<BR>\\n'\n",
      " 'Warning: You should not build a TV Descrambler without <BR>\\n'\n",
      " 'reading this report first.<BR>\\n' '<BR>\\n'\n",
      " 'Frequently Asked Questions--CABLE TV DESCRAMBLER<BR>\\n' '<BR>\\n'\n",
      " 'Q: Will the descrambler work on Fiber, TCI, Jarrod <BR>\\n'\n",
      " 'and satellite systems? <BR>\\n'\n",
      " 'A: The answer is YES.  In respect to satellite, <BR>\\n'\n",
      " 'you just get more stuff! There is one exception:<BR>\\n'\n",
      " ' The descrambler will not work with DSS satellite.<BR>\\n' '<BR>\\n'\n",
      " 'Q: Do I need a converter box?<BR>\\n'\n",
      " 'A: This plan works with or without a converter box.<BR>\\n'\n",
      " '  Specific instructions are included in the plans for each!<BR>\\n'\n",
      " '<BR>\\n'\n",
      " 'Q: Can the cable company detect that I have the descrambler?<BR>\\n'\n",
      " 'A: No, the signal descrambles right at the box and does<BR>\\n'\n",
      " '   not move back through the line!<BR>\\n' '<BR>\\n'\n",
      " 'Q: Do I have to alter my existing cable system, <BR>\\n'\n",
      " 'television or VCR?<BR>\\n' 'A: The answer is no!<BR>\\n' '<BR>\\n'\n",
      " 'Q: Does this work with my remote control?<BR>\\n'\n",
      " 'A: The answer is yes.  The descrambler is <BR>\\n'\n",
      " 'manually controlled--but very easy to use!<BR>\\n' '<BR>\\n'\n",
      " 'Q: Can you email me the plans?<BR>\\n'\n",
      " 'A: No the program comes with an easy to follow picture guide.<BR>\\n'\n",
      " '<BR>\\n' 'Q: Does this work everywhere across the country?<BR>\\n'\n",
      " 'A: Yes, every where in the USA plus England,<BR>\\n'\n",
      " ' Brazil, Canada and other countries!<BR>\\n' '<BR>\\n'\n",
      " 'Q: When I order, when will I get my stuff?<BR>\\n'\n",
      " 'A: We mail out all orders within 48 hours of receiving them.<BR>\\n'\n",
      " ' <BR>\\n'\n",
      " ' YOU SUPPLY A SELF-ADDRESSED, STAMPED, #10 LONG ENVELOPE, WITH<BR>\\n'\n",
      " 'TWO-FIRST CLASS STAMPS.<BR>\\n' '<BR>\\n' '<BR>\\n'\n",
      " 'Q: How much does it cost to get the instruction <BR>\\n'\n",
      " 'plans, the easy to follow diagram, and most<BR>\\n'\n",
      " ' important of all the Using a Descrambler LEGALLY.<BR>\\n' '</B>\\n'\n",
      " '<FONT color=3D\"#800040\"><B> <BR>\\n'\n",
      " 'A: You get the complete package all for just--$10.00<BR>\\n'\n",
      " ' (Cash, Check or Postal Money Order.)<BR>\\n'\n",
      " '(Arizona residents include 7% Arizona State Sales Tax)<BR>\\n' '<BR>\\n'\n",
      " '(All orders outside the U.S.A. add $5.00)<BR>\\n' '<BR>\\n'\n",
      " 'ORDERS OUTSIDE THE US MUST BE IN $15 in US CASH!<BR>\\n' '<BR>\\n'\n",
      " 'Q: How do I order?<BR>\\n'\n",
      " 'A: Fill out form below and send it, along with your payment <BR>\\n'\n",
      " '   AND YOUR SELF ADDRESSED 2 STAMPED ENVELOPE to:<BR>\\n'\n",
      " '</B></FONT><B> <BR>\\n' 'A Groves<BR>\\n' 'PO BOX  8051<BR>\\n'\n",
      " 'Mesa, AZ  85214-8051<BR>\\n'\n",
      " '                                       <BR>\\n' '</B>\\n'\n",
      " '<FONT color=3D\"#8000FF\"><B> MAKE CHECKS PAYABLE TO:  A Groves<BR>\\n'\n",
      " '</B></FONT><B> <BR>\\n' 'PRINT YOUR:<BR>\\n'\n",
      " '       (orders without an envelope or stamps will be processed<BR>\\n'\n",
      " '        up to 2 weeks later than complete orders)<BR>\\n' '<BR>\\n'\n",
      " '    DO NOT FORGET YOUR STAMPS! <BR>\\n' '<BR>\\n'\n",
      " 'NAME_____________________________________________<BR>\\n' '<BR>\\n'\n",
      " 'ADDRESS__________________________________________<BR>\\n' '<BR>\\n'\n",
      " 'CITY/STATE/ZIP_____________________________________<BR>\\n' '<BR>\\n'\n",
      " 'DO NOT FORGET YOUR 2, 33 or 34 cent stamps and #10 envelope!<BR>\\n'\n",
      " '<BR>\\n' '<BR>\\n' '<BR>\\n' '<BR>\\n' '<BR>\\n'\n",
      " '*A GROVES is NOT ASSOCIATED in any way with RADIO SHACK. <BR>\\n'\n",
      " ' Neither the design nor instructions were developed<BR>\\n'\n",
      " ' by, are sold by, or are endorsed by Radio Shack. <BR>\\n'\n",
      " ' Parts for this fine-tuning device are available <BR>\\n'\n",
      " ' at many electronics stores (including Radio Shack) <BR>\\n'\n",
      " ' This is not a Radio Shack product.<BR>\\n' '<BR>\\n' '<BR>\\n' '<BR>\\n'\n",
      " '<BR>\\n' 'to be removed reply to: gotcha3490@looksmart.com.au<BR>\\n'\n",
      " '</B> <BR>\\n' '<BR>\\n' '<BR>\\n' '<BR>\\n' '<BR>\\n' '<BR>\\n' '<BR>\\n'\n",
      " '</FONT></FONT><p><p><p><p><p><p><p><p><p><p>\\n' '\\n' '\\n'\n",
      " '<p><FONT face=3D\"MS Sans Serif\"><p><p><p><p><p><p><p></BODY></HTML>\\n'\n",
      " '\\n' '\\n' '\\n' '\\n']\n",
      "[[0. 0. 1. ... 0. 1. 1.]\n",
      " [1. 0. 1. ... 0. 1. 1.]\n",
      " [1. 1. 1. ... 1. 1. 1.]\n",
      " ...\n",
      " [0. 0. 1. ... 0. 0. 1.]\n",
      " [0. 0. 1. ... 0. 0. 1.]\n",
      " [0. 0. 1. ... 0. 0. 1.]]\n"
     ]
    }
   ],
   "source": [
    "print(Xspam.shape)\n",
    "print(Yspam[0], 'spam' if Yspam[0] > 0 else 'non-spam')\n",
    "print(np.array(contents[0]))\n",
    "print(Xspam)"
   ]
  },
  {
   "cell_type": "markdown",
   "metadata": {
    "deletable": false,
    "editable": false,
    "nbgrader": {
     "checksum": "357be35eb4e9f24a1ae515c5925ee51e",
     "grade": false,
     "grade_id": "cell-01440c3c0c02e9a7",
     "locked": true,
     "schema_version": 1,
     "solution": false
    }
   },
   "source": [
    "### Split The Dataset\n",
    "\n",
    "Now that you have loaded the dataset, it's time to split it into training and testing. Run the code below to split of 20% of the data into a validation set, leaving 80% as your training set. Unlike a testing that is hidden and is used to evaluate your final algorithm once at the end, the validation set is available and can be used to evaluate and tune parameters like the learning rate for your model.\n",
    "\n",
    "You will train the model on the training set and evaluate on the validation set. You can repeatedly do so and improve the model's performance. A validation set is thus like a testing test but is split off from the full training set. That is why you have access to the validation set but not to the real testing set."
   ]
  },
  {
   "cell_type": "code",
   "execution_count": 5,
   "metadata": {
    "deletable": false,
    "editable": false,
    "nbgrader": {
     "checksum": "a742fb23b58c1dacb1fc749c6541605b",
     "grade": false,
     "grade_id": "cell-afd447bf48aa9770",
     "locked": true,
     "schema_version": 1,
     "solution": false
    }
   },
   "outputs": [],
   "source": [
    "# Split data into training (xTr and yTr) and validation (xTv and yTv)\n",
    "n, d = Xspam.shape\n",
    "\n",
    "# Set the seed for consistency across runs, and shuffle the dataset randomly\n",
    "np.random.seed(1)\n",
    "shuffle_idxs = np.random.permutation(n)\n",
    "Xspam = Xspam[shuffle_idxs]\n",
    "Yspam = Yspam[shuffle_idxs]\n",
    "\n",
    "# Allocate 80% of the data for training and 20% for testing\n",
    "cutoff = int(np.ceil(0.8 * n))\n",
    "# indices of training samples\n",
    "xTr = Xspam[:cutoff, :]\n",
    "yTr = Yspam[:cutoff]\n",
    "# indices of Validation samples\n",
    "xTv = Xspam[cutoff:, :]\n",
    "yTv = Yspam[cutoff:]"
   ]
  },
  {
   "cell_type": "markdown",
   "metadata": {
    "deletable": false,
    "editable": false,
    "nbgrader": {
     "checksum": "643a912dcfb702b03ee9a84c94a09762",
     "grade": false,
     "grade_id": "cell-1dce047da83653a9",
     "locked": true,
     "schema_version": 1,
     "solution": false
    }
   },
   "source": [
    "### Training and Evaluating\n",
    "\n",
    "Running the following cell will produce a logistic regression model that can classify unseen emails (validation set) at roughly 90% validation accuracy."
   ]
  },
  {
   "cell_type": "code",
   "execution_count": 6,
   "metadata": {
    "deletable": false,
    "editable": false,
    "nbgrader": {
     "checksum": "2b8b909d6feb2c8ab6764521a8df1820",
     "grade": false,
     "grade_id": "cell-067ecd1f81463344",
     "locked": true,
     "schema_version": 1,
     "solution": false
    }
   },
   "outputs": [
    {
     "name": "stdout",
     "output_type": "stream",
     "text": [
      "Training accuracy 98.15%\n",
      "Validation accuracy 95.80%\n",
      "\n"
     ]
    },
    {
     "data": {
      "image/png": "[encoded data removed]",
      "text/plain": [
       "<Figure size 648x432 with 1 Axes>"
      ]
     },
     "metadata": {
      "needs_background": "light"
     },
     "output_type": "display_data"
    }
   ],
   "source": [
    "max_iter = 5000\n",
    "alpha = 1e-5\n",
    "final_w_spam, final_b_spam, losses = logistic_regression_grader(xTr, yTr, max_iter, alpha)\n",
    "\n",
    "plt.figure(figsize=(9, 6))\n",
    "plt.plot(losses)\n",
    "plt.title(\"Loss vs. iteration\", size=15)\n",
    "plt.xlabel(\"Num iteration\", size=13)\n",
    "plt.ylabel(\"Loss value\", size=13)\n",
    "\n",
    "# evaluate training accuracy\n",
    "scoresTr = y_pred_grader(xTr, final_w_spam, final_b_spam)\n",
    "pred_labels = (scoresTr > 0.5).astype(int)\n",
    "pred_labels[pred_labels != 1] = -1\n",
    "trainingacc = np.mean(pred_labels == yTr)\n",
    "\n",
    "# evaluate validation accuracy\n",
    "scoresTv = y_pred_grader(xTv, final_w_spam, final_b_spam)\n",
    "pred_labels = (scoresTv > 0.5).astype(int)\n",
    "pred_labels[pred_labels != 1] = -1\n",
    "validationacc = np.mean(pred_labels == yTv)\n",
    "print(\"Training accuracy %2.2f%%\\nValidation accuracy %2.2f%%\\n\" % (trainingacc*100, validationacc*100))"
   ]
  },
  {
   "cell_type": "markdown",
   "metadata": {
    "deletable": false,
    "editable": false,
    "nbgrader": {
     "checksum": "96d7b41a04796493c1f3f65f0e948faf",
     "grade": false,
     "grade_id": "cell-64d0e271d6fa4ef5",
     "locked": true,
     "schema_version": 1,
     "solution": false
    }
   },
   "source": [
    "## Scikit-learn example\n",
    "\n",
    "Scikit-learn actually provides two implementations of Logistic Regression: as [`sklearn.linear_model.LogisticRegression`](https://scikit-learn.org/stable/modules/generated/sklearn.linear_model.LogisticRegression.html) and as [`sklearn.linear_model.SGDClassifier(loss='log')`](https://scikit-learn.org/stable/modules/generated/sklearn.linear_model.SGDClassifier.html). The former uses second-order gradient methods (using the second derivative of $NLL$) to converge faster. We will demonstrate using the latter implementation so that you get similar results to the classifier you built."
   ]
  },
  {
   "cell_type": "code",
   "execution_count": 7,
   "metadata": {
    "deletable": false,
    "editable": false,
    "nbgrader": {
     "checksum": "2dbb7a7b64c2989418baf69c4fbf2a5d",
     "grade": false,
     "grade_id": "cell-f52ed14dba328199",
     "locked": true,
     "schema_version": 1,
     "solution": false
    }
   },
   "outputs": [
    {
     "name": "stdout",
     "output_type": "stream",
     "text": [
      "Training accuracy 98.15%\n",
      "Validation accuracy 95.80%\n",
      "\n"
     ]
    }
   ],
   "source": [
    "from sklearn.linear_model import SGDClassifier\n",
    "\n",
    "regularizer_multiplier = 0.\n",
    "clf = SGDClassifier(\n",
    "    loss='log', # Logistic Regression\n",
    "    tol=None, # Run to max_iter\n",
    "    alpha=regularizer_multiplier, # Don't use L2 or L1 regularizer\n",
    "    learning_rate='constant', eta0=alpha, # Constant learning rate\n",
    "    max_iter=max_iter\n",
    ")\n",
    "clf.fit(xTr, yTr)\n",
    "final_w_sklearn, final_b_sklearn = clf.coef_.flatten(), clf.intercept_.flatten()\n",
    "\n",
    "# evaluate training accuracy\n",
    "scoresTr = y_pred_grader(xTr, final_w_sklearn, final_b_sklearn)\n",
    "pred_labels = (scoresTr > 0.5).astype(int)\n",
    "pred_labels[pred_labels != 1] = -1\n",
    "trainingacc = np.mean(pred_labels == yTr)\n",
    "\n",
    "# evaluate testing accuracy\n",
    "scoresTv = y_pred_grader(xTv, final_w_sklearn, final_b_sklearn)\n",
    "pred_labels = (scoresTv > 0.5).astype(int)\n",
    "pred_labels[pred_labels != 1] = -1\n",
    "validationacc = np.mean(pred_labels == yTv)\n",
    "print(\"Training accuracy %2.2f%%\\nValidation accuracy %2.2f%%\\n\" % (trainingacc*100, validationacc*100))"
   ]
  },
  {
   "cell_type": "markdown",
   "metadata": {
    "deletable": false,
    "editable": false,
    "nbgrader": {
     "checksum": "9ce46a902e2452c4066d606f09e4c5f7",
     "grade": false,
     "grade_id": "cell-d140ca2854a41aee",
     "locked": true,
     "schema_version": 1,
     "solution": false
    }
   },
   "source": [
    "## Challenge: Improve Your Spam Classifier **[Ungraded]**\n",
    "\n",
    "You can improve your classifier in two ways:\n",
    "\n",
    "1. **Feature Extraction**: Modify the function `extract_features_challenge()`. This function takes in a `email` (list of lines in an email) and a feature dimension `B`, and should output a feature vector of dimension `B`. The autograder will pass in both arguments. We provide naive feature extraction from above as an example.\n",
    "2. **Model Training**: Modify the function `train_spam_filter_challenge()`. This function takes in training data `xTr, yTr` and should output a weight vector `w` and bias term `b` for classification. The predictions will be calculated exactly the same way as we have demonstrated in the previous cell. We provide an initial implementation using gradient descent and logistic regression.\n",
    "\n",
    "Your model will be trained on the same training set above (loaded by `load_spam_data()`), but we will test its accuracy on a testing dataset of emails (hidden from you)."
   ]
  },
  {
   "cell_type": "code",
   "execution_count": null,
   "metadata": {},
   "outputs": [],
   "source": [
    "feature_dimension = 512\n",
    "def extract_features_challenge(email, B=feature_dimension):\n",
    "    '''\n",
    "    Returns a vector representation for email. The vector is of length B.\n",
    "    \n",
    "    Input:\n",
    "        email: list of lines in an email\n",
    "        B: number of dimensions of output vector\n",
    "        \n",
    "    Output:\n",
    "        B-dimensional vector\n",
    "    '''\n",
    "    # initialize all-zeros feature vector\n",
    "    v = np.zeros(B)\n",
    "    email = ' '.join(email)\n",
    "    # breaks for non-ascii characters\n",
    "    tokens = email.split()\n",
    "    for token in tokens:\n",
    "        v[hash(token) % B] = 1\n",
    "        \n",
    "    # YOUR CODE HERE\n",
    "    \n",
    "    return v"
   ]
  },
  {
   "cell_type": "code",
   "execution_count": null,
   "metadata": {},
   "outputs": [],
   "source": [
    "def train_spam_filter_challenge(xTr, yTr):\n",
    "    '''\n",
    "    Train a model on training data xTr and labels yTr, and return weight vector and bias term.\n",
    "    \n",
    "    Input:\n",
    "        xTr: data matrix of shape nxd\n",
    "        yTr: n-dimensional vector data labels (+1 or -1)\n",
    "        \n",
    "    Output:\n",
    "        w, b\n",
    "        w: d-dimension weight vector\n",
    "        b: scalar bias term\n",
    "    '''\n",
    "    n, d = xTr.shape\n",
    "    \n",
    "    max_iter = 100\n",
    "    alpha = 1e-5\n",
    "    w, b, losses = logistic_regression_grader(xTr, yTr, max_iter, alpha)\n",
    "    \n",
    "        \n",
    "    # YOUR CODE HERE\n",
    "\n",
    "    return w, b"
   ]
  },
  {
   "cell_type": "code",
   "execution_count": null,
   "metadata": {
    "deletable": false,
    "editable": false,
    "nbgrader": {
     "checksum": "952c04f6e6477abbb48df9c56b8e4327",
     "grade": false,
     "grade_id": "cell-3caff5e06e63eb8f",
     "locked": true,
     "schema_version": 1,
     "solution": false
    }
   },
   "outputs": [],
   "source": [
    "def challenge_selftest():\n",
    "    xTr, yTr, cTr = load_spam_data(extract_features_challenge, feature_dimension, train_url)\n",
    "    w, b = train_spam_filter_challenge(xTr, yTr)\n",
    "    xTe, yTe, cTe = load_spam_data(extract_features_challenge, feature_dimension, test_url)\n",
    "    scoresTe = sigmoid_grader(xTe @ w + b)\n",
    "    \n",
    "    preds = (scoresTe > 0.5).astype(int)\n",
    "    preds[preds != 1] = -1\n",
    "    \n",
    "    pos_ind = (yTe == 1)\n",
    "    neg_ind = (yTe == -1)\n",
    "    \n",
    "    pos_acc = np.mean(yTe[pos_ind] == preds[pos_ind])\n",
    "    neg_acc = np.mean(yTe[neg_ind] == preds[neg_ind])\n",
    "    \n",
    "    test_accuracy = 0.5*pos_acc + 0.5*neg_acc\n",
    "    \n",
    "    scoresTr =  sigmoid_grader(xTr @ w + b)\n",
    "    preds_Tr = (scoresTr > 0.5).astype(int)\n",
    "    preds_Tr[preds_Tr != 1] = -1\n",
    "    \n",
    "    training_accuracy = np.mean(preds_Tr == yTr)\n",
    "    return training_accuracy, test_accuracy\n",
    "\n",
    "training_acc, test_acc = challenge_selftest()\n",
    "print(\"Your features and model achieved training accuracy: {:.2f}% and test accuracy: {:.2f}%\".format(training_acc*100, test_acc*100))"
   ]
  }
 ],
 "metadata": {
  "kernelspec": {
   "display_name": "Python 3",
   "language": "python",
   "name": "python3"
  },
  "language_info": {
   "codemirror_mode": {
    "name": "ipython",
    "version": 3
   },
   "file_extension": ".py",
   "mimetype": "text/x-python",
   "name": "python",
   "nbconvert_exporter": "python",
   "pygments_lexer": "ipython3",
   "version": "3.6.8"
  }
 },
 "nbformat": 4,
 "nbformat_minor": 4
}
